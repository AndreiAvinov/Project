{
 "cells": [
  {
   "cell_type": "code",
   "execution_count": 8,
   "metadata": {},
   "outputs": [],
   "source": [
    "import pandas as pd\n",
    "import numpy as np\n",
    "import matplotlib.pyplot as plt\n",
    "from plotly.offline import iplot\n",
    "import plotly.graph_objects as go\n",
    "import scipy.cluster.hierarchy as sch\n",
    "import statsmodels.api as sm\n",
    "from pylab import rcParams\n",
    "from statsmodels.tsa.statespace.sarimax import SARIMAX\n",
    "from statsmodels.tsa.api import VAR\n",
    "from statsmodels.tsa.stattools import adfuller\n",
    "from statsmodels.stats.diagnostic import acorr_breusch_godfrey\n",
    "from fbprophet import Prophet"
   ]
  },
  {
   "cell_type": "code",
   "execution_count": 9,
   "metadata": {},
   "outputs": [],
   "source": [
    "def custom_breusch_godfrey(cmp_df, lag):\n",
    "    bgm = sm.OLS(cmp_df[lag:]['e'].to_numpy(), sm.add_constant(cmp_df[:-lag]['e'].to_numpy()))\n",
    "    bgm_res = bgm.fit()\n",
    "    print(bgm_res.summary())\n",
    "    fig, ax = plt.subplots(figsize=(8,6))\n",
    "    ax.plot(cmp_df[:-lag]['e'].to_numpy(), bgm_res.fittedvalues, label=\"Регрессия по остаткам\")\n",
    "    ax.plot(cmp_df[:-lag]['e'].to_numpy(), cmp_df[lag:]['e'].to_numpy(), 'o', label=\"Остатки\")\n",
    "    ax.legend(loc='best')"
   ]
  },
  {
   "cell_type": "code",
   "execution_count": 10,
   "metadata": {
    "scrolled": true
   },
   "outputs": [
    {
     "data": {
      "text/html": [
       "<div>\n",
       "<style scoped>\n",
       "    .dataframe tbody tr th:only-of-type {\n",
       "        vertical-align: middle;\n",
       "    }\n",
       "\n",
       "    .dataframe tbody tr th {\n",
       "        vertical-align: top;\n",
       "    }\n",
       "\n",
       "    .dataframe thead th {\n",
       "        text-align: right;\n",
       "    }\n",
       "</style>\n",
       "<table border=\"1\" class=\"dataframe\">\n",
       "  <thead>\n",
       "    <tr style=\"text-align: right;\">\n",
       "      <th></th>\n",
       "      <th>Дата</th>\n",
       "      <th>Средняя цена авокадо в США (в долларах)</th>\n",
       "      <th>Общее количество проданных авокадо (в фунтах)</th>\n",
       "      <th>Количество запросов \"Здоровая еда\"</th>\n",
       "    </tr>\n",
       "  </thead>\n",
       "  <tbody>\n",
       "    <tr>\n",
       "      <td>0</td>\n",
       "      <td>31.01.2015</td>\n",
       "      <td>1.365046</td>\n",
       "      <td>318085209.6</td>\n",
       "      <td>70.50</td>\n",
       "    </tr>\n",
       "    <tr>\n",
       "      <td>1</td>\n",
       "      <td>28.02.2015</td>\n",
       "      <td>1.326944</td>\n",
       "      <td>362637599.2</td>\n",
       "      <td>63.25</td>\n",
       "    </tr>\n",
       "    <tr>\n",
       "      <td>2</td>\n",
       "      <td>31.03.2015</td>\n",
       "      <td>1.361981</td>\n",
       "      <td>418583069.8</td>\n",
       "      <td>63.40</td>\n",
       "    </tr>\n",
       "    <tr>\n",
       "      <td>3</td>\n",
       "      <td>30.04.2015</td>\n",
       "      <td>1.383449</td>\n",
       "      <td>344144395.2</td>\n",
       "      <td>63.75</td>\n",
       "    </tr>\n",
       "    <tr>\n",
       "      <td>4</td>\n",
       "      <td>31.05.2015</td>\n",
       "      <td>1.344685</td>\n",
       "      <td>483784044.8</td>\n",
       "      <td>62.40</td>\n",
       "    </tr>\n",
       "    <tr>\n",
       "      <td>5</td>\n",
       "      <td>30.06.2015</td>\n",
       "      <td>1.399074</td>\n",
       "      <td>381826743.7</td>\n",
       "      <td>58.00</td>\n",
       "    </tr>\n",
       "    <tr>\n",
       "      <td>6</td>\n",
       "      <td>31.07.2015</td>\n",
       "      <td>1.409444</td>\n",
       "      <td>356701872.6</td>\n",
       "      <td>60.50</td>\n",
       "    </tr>\n",
       "    <tr>\n",
       "      <td>7</td>\n",
       "      <td>31.08.2015</td>\n",
       "      <td>1.444481</td>\n",
       "      <td>419244814.8</td>\n",
       "      <td>55.40</td>\n",
       "    </tr>\n",
       "    <tr>\n",
       "      <td>8</td>\n",
       "      <td>30.09.2015</td>\n",
       "      <td>1.449144</td>\n",
       "      <td>329218833.1</td>\n",
       "      <td>57.75</td>\n",
       "    </tr>\n",
       "    <tr>\n",
       "      <td>9</td>\n",
       "      <td>31.10.2015</td>\n",
       "      <td>1.391968</td>\n",
       "      <td>305776111.0</td>\n",
       "      <td>59.00</td>\n",
       "    </tr>\n",
       "    <tr>\n",
       "      <td>10</td>\n",
       "      <td>30.11.2015</td>\n",
       "      <td>1.330611</td>\n",
       "      <td>369440036.4</td>\n",
       "      <td>53.60</td>\n",
       "    </tr>\n",
       "    <tr>\n",
       "      <td>11</td>\n",
       "      <td>31.12.2015</td>\n",
       "      <td>1.305244</td>\n",
       "      <td>296025931.9</td>\n",
       "      <td>49.75</td>\n",
       "    </tr>\n",
       "    <tr>\n",
       "      <td>12</td>\n",
       "      <td>31.01.2016</td>\n",
       "      <td>1.240185</td>\n",
       "      <td>475405765.6</td>\n",
       "      <td>73.80</td>\n",
       "    </tr>\n",
       "    <tr>\n",
       "      <td>13</td>\n",
       "      <td>29.02.2016</td>\n",
       "      <td>1.237106</td>\n",
       "      <td>428645802.0</td>\n",
       "      <td>70.75</td>\n",
       "    </tr>\n",
       "    <tr>\n",
       "      <td>14</td>\n",
       "      <td>31.03.2016</td>\n",
       "      <td>1.224213</td>\n",
       "      <td>391212408.3</td>\n",
       "      <td>65.75</td>\n",
       "    </tr>\n",
       "    <tr>\n",
       "      <td>15</td>\n",
       "      <td>30.04.2016</td>\n",
       "      <td>1.205023</td>\n",
       "      <td>401832751.8</td>\n",
       "      <td>70.75</td>\n",
       "    </tr>\n",
       "    <tr>\n",
       "      <td>16</td>\n",
       "      <td>31.05.2016</td>\n",
       "      <td>1.199722</td>\n",
       "      <td>561230530.6</td>\n",
       "      <td>65.60</td>\n",
       "    </tr>\n",
       "    <tr>\n",
       "      <td>17</td>\n",
       "      <td>30.06.2016</td>\n",
       "      <td>1.283056</td>\n",
       "      <td>410328154.1</td>\n",
       "      <td>62.00</td>\n",
       "    </tr>\n",
       "    <tr>\n",
       "      <td>18</td>\n",
       "      <td>31.07.2016</td>\n",
       "      <td>1.401333</td>\n",
       "      <td>467275344.2</td>\n",
       "      <td>59.60</td>\n",
       "    </tr>\n",
       "    <tr>\n",
       "      <td>19</td>\n",
       "      <td>31.08.2016</td>\n",
       "      <td>1.411111</td>\n",
       "      <td>370796967.0</td>\n",
       "      <td>57.75</td>\n",
       "    </tr>\n",
       "    <tr>\n",
       "      <td>20</td>\n",
       "      <td>30.09.2016</td>\n",
       "      <td>1.427870</td>\n",
       "      <td>362303275.5</td>\n",
       "      <td>59.75</td>\n",
       "    </tr>\n",
       "    <tr>\n",
       "      <td>21</td>\n",
       "      <td>31.10.2016</td>\n",
       "      <td>1.557093</td>\n",
       "      <td>360201804.3</td>\n",
       "      <td>60.60</td>\n",
       "    </tr>\n",
       "    <tr>\n",
       "      <td>22</td>\n",
       "      <td>30.11.2016</td>\n",
       "      <td>1.550023</td>\n",
       "      <td>260209336.7</td>\n",
       "      <td>56.00</td>\n",
       "    </tr>\n",
       "    <tr>\n",
       "      <td>23</td>\n",
       "      <td>31.12.2016</td>\n",
       "      <td>1.315995</td>\n",
       "      <td>331447751.9</td>\n",
       "      <td>54.50</td>\n",
       "    </tr>\n",
       "    <tr>\n",
       "      <td>24</td>\n",
       "      <td>31.01.2017</td>\n",
       "      <td>1.277500</td>\n",
       "      <td>533333033.4</td>\n",
       "      <td>86.80</td>\n",
       "    </tr>\n",
       "    <tr>\n",
       "      <td>25</td>\n",
       "      <td>28.02.2017</td>\n",
       "      <td>1.214792</td>\n",
       "      <td>471467199.8</td>\n",
       "      <td>78.50</td>\n",
       "    </tr>\n",
       "    <tr>\n",
       "      <td>26</td>\n",
       "      <td>31.03.2017</td>\n",
       "      <td>1.398935</td>\n",
       "      <td>358903381.7</td>\n",
       "      <td>81.00</td>\n",
       "    </tr>\n",
       "    <tr>\n",
       "      <td>27</td>\n",
       "      <td>30.04.2017</td>\n",
       "      <td>1.502611</td>\n",
       "      <td>489814529.5</td>\n",
       "      <td>78.00</td>\n",
       "    </tr>\n",
       "    <tr>\n",
       "      <td>28</td>\n",
       "      <td>31.05.2017</td>\n",
       "      <td>1.532593</td>\n",
       "      <td>425730541.6</td>\n",
       "      <td>74.50</td>\n",
       "    </tr>\n",
       "    <tr>\n",
       "      <td>29</td>\n",
       "      <td>30.06.2017</td>\n",
       "      <td>1.545395</td>\n",
       "      <td>410410651.0</td>\n",
       "      <td>75.50</td>\n",
       "    </tr>\n",
       "    <tr>\n",
       "      <td>30</td>\n",
       "      <td>31.07.2017</td>\n",
       "      <td>1.564926</td>\n",
       "      <td>474903710.4</td>\n",
       "      <td>77.60</td>\n",
       "    </tr>\n",
       "    <tr>\n",
       "      <td>31</td>\n",
       "      <td>31.08.2017</td>\n",
       "      <td>1.698958</td>\n",
       "      <td>338332990.2</td>\n",
       "      <td>70.50</td>\n",
       "    </tr>\n",
       "    <tr>\n",
       "      <td>32</td>\n",
       "      <td>30.09.2017</td>\n",
       "      <td>1.840949</td>\n",
       "      <td>284779536.3</td>\n",
       "      <td>68.25</td>\n",
       "    </tr>\n",
       "    <tr>\n",
       "      <td>33</td>\n",
       "      <td>31.10.2017</td>\n",
       "      <td>1.752444</td>\n",
       "      <td>362777956.7</td>\n",
       "      <td>70.20</td>\n",
       "    </tr>\n",
       "    <tr>\n",
       "      <td>34</td>\n",
       "      <td>30.11.2017</td>\n",
       "      <td>1.517292</td>\n",
       "      <td>324519308.5</td>\n",
       "      <td>63.75</td>\n",
       "    </tr>\n",
       "    <tr>\n",
       "      <td>35</td>\n",
       "      <td>31.12.2017</td>\n",
       "      <td>1.363852</td>\n",
       "      <td>459332860.0</td>\n",
       "      <td>64.20</td>\n",
       "    </tr>\n",
       "    <tr>\n",
       "      <td>36</td>\n",
       "      <td>31.01.2018</td>\n",
       "      <td>1.387431</td>\n",
       "      <td>429707083.6</td>\n",
       "      <td>91.75</td>\n",
       "    </tr>\n",
       "    <tr>\n",
       "      <td>37</td>\n",
       "      <td>28.02.2018</td>\n",
       "      <td>1.318704</td>\n",
       "      <td>497778196.4</td>\n",
       "      <td>87.50</td>\n",
       "    </tr>\n",
       "    <tr>\n",
       "      <td>38</td>\n",
       "      <td>31.03.2018</td>\n",
       "      <td>1.336458</td>\n",
       "      <td>455253060.2</td>\n",
       "      <td>86.75</td>\n",
       "    </tr>\n",
       "  </tbody>\n",
       "</table>\n",
       "</div>"
      ],
      "text/plain": [
       "          Дата  Средняя цена авокадо в США (в долларах)  \\\n",
       "0   31.01.2015                                 1.365046   \n",
       "1   28.02.2015                                 1.326944   \n",
       "2   31.03.2015                                 1.361981   \n",
       "3   30.04.2015                                 1.383449   \n",
       "4   31.05.2015                                 1.344685   \n",
       "5   30.06.2015                                 1.399074   \n",
       "6   31.07.2015                                 1.409444   \n",
       "7   31.08.2015                                 1.444481   \n",
       "8   30.09.2015                                 1.449144   \n",
       "9   31.10.2015                                 1.391968   \n",
       "10  30.11.2015                                 1.330611   \n",
       "11  31.12.2015                                 1.305244   \n",
       "12  31.01.2016                                 1.240185   \n",
       "13  29.02.2016                                 1.237106   \n",
       "14  31.03.2016                                 1.224213   \n",
       "15  30.04.2016                                 1.205023   \n",
       "16  31.05.2016                                 1.199722   \n",
       "17  30.06.2016                                 1.283056   \n",
       "18  31.07.2016                                 1.401333   \n",
       "19  31.08.2016                                 1.411111   \n",
       "20  30.09.2016                                 1.427870   \n",
       "21  31.10.2016                                 1.557093   \n",
       "22  30.11.2016                                 1.550023   \n",
       "23  31.12.2016                                 1.315995   \n",
       "24  31.01.2017                                 1.277500   \n",
       "25  28.02.2017                                 1.214792   \n",
       "26  31.03.2017                                 1.398935   \n",
       "27  30.04.2017                                 1.502611   \n",
       "28  31.05.2017                                 1.532593   \n",
       "29  30.06.2017                                 1.545395   \n",
       "30  31.07.2017                                 1.564926   \n",
       "31  31.08.2017                                 1.698958   \n",
       "32  30.09.2017                                 1.840949   \n",
       "33  31.10.2017                                 1.752444   \n",
       "34  30.11.2017                                 1.517292   \n",
       "35  31.12.2017                                 1.363852   \n",
       "36  31.01.2018                                 1.387431   \n",
       "37  28.02.2018                                 1.318704   \n",
       "38  31.03.2018                                 1.336458   \n",
       "\n",
       "    Общее количество проданных авокадо (в фунтах)  \\\n",
       "0                                     318085209.6   \n",
       "1                                     362637599.2   \n",
       "2                                     418583069.8   \n",
       "3                                     344144395.2   \n",
       "4                                     483784044.8   \n",
       "5                                     381826743.7   \n",
       "6                                     356701872.6   \n",
       "7                                     419244814.8   \n",
       "8                                     329218833.1   \n",
       "9                                     305776111.0   \n",
       "10                                    369440036.4   \n",
       "11                                    296025931.9   \n",
       "12                                    475405765.6   \n",
       "13                                    428645802.0   \n",
       "14                                    391212408.3   \n",
       "15                                    401832751.8   \n",
       "16                                    561230530.6   \n",
       "17                                    410328154.1   \n",
       "18                                    467275344.2   \n",
       "19                                    370796967.0   \n",
       "20                                    362303275.5   \n",
       "21                                    360201804.3   \n",
       "22                                    260209336.7   \n",
       "23                                    331447751.9   \n",
       "24                                    533333033.4   \n",
       "25                                    471467199.8   \n",
       "26                                    358903381.7   \n",
       "27                                    489814529.5   \n",
       "28                                    425730541.6   \n",
       "29                                    410410651.0   \n",
       "30                                    474903710.4   \n",
       "31                                    338332990.2   \n",
       "32                                    284779536.3   \n",
       "33                                    362777956.7   \n",
       "34                                    324519308.5   \n",
       "35                                    459332860.0   \n",
       "36                                    429707083.6   \n",
       "37                                    497778196.4   \n",
       "38                                    455253060.2   \n",
       "\n",
       "    Количество запросов \"Здоровая еда\"  \n",
       "0                                70.50  \n",
       "1                                63.25  \n",
       "2                                63.40  \n",
       "3                                63.75  \n",
       "4                                62.40  \n",
       "5                                58.00  \n",
       "6                                60.50  \n",
       "7                                55.40  \n",
       "8                                57.75  \n",
       "9                                59.00  \n",
       "10                               53.60  \n",
       "11                               49.75  \n",
       "12                               73.80  \n",
       "13                               70.75  \n",
       "14                               65.75  \n",
       "15                               70.75  \n",
       "16                               65.60  \n",
       "17                               62.00  \n",
       "18                               59.60  \n",
       "19                               57.75  \n",
       "20                               59.75  \n",
       "21                               60.60  \n",
       "22                               56.00  \n",
       "23                               54.50  \n",
       "24                               86.80  \n",
       "25                               78.50  \n",
       "26                               81.00  \n",
       "27                               78.00  \n",
       "28                               74.50  \n",
       "29                               75.50  \n",
       "30                               77.60  \n",
       "31                               70.50  \n",
       "32                               68.25  \n",
       "33                               70.20  \n",
       "34                               63.75  \n",
       "35                               64.20  \n",
       "36                               91.75  \n",
       "37                               87.50  \n",
       "38                               86.75  "
      ]
     },
     "metadata": {},
     "output_type": "display_data"
    }
   ],
   "source": [
    "# import dataframe\n",
    "df = pd.read_csv('DataFinal1.csv', sep=\";\", decimal=\".\")\n",
    "COLUMN_NAME = 'Средняя цена авокадо в США (в долларах)'\n",
    "N_COLUMNS = len(df.columns)\n",
    "N_ROWS = len(df.index)\n",
    "with pd.option_context('display.max_rows', None, 'display.max_columns', None):\n",
    "    display(df)"
   ]
  },
  {
   "cell_type": "code",
   "execution_count": 11,
   "metadata": {},
   "outputs": [
    {
     "data": {
      "text/plain": [
       "<matplotlib.axes._subplots.AxesSubplot at 0x299ca7aa408>"
      ]
     },
     "execution_count": 11,
     "metadata": {},
     "output_type": "execute_result"
    },
    {
     "data": {
      "image/png": "[encoded data removed]",
      "text/plain": [
       "<Figure size 432x288 with 1 Axes>"
      ]
     },
     "metadata": {
      "needs_background": "light"
     },
     "output_type": "display_data"
    },
    {
     "data": {
      "image/png": "[encoded data removed]",
      "text/plain": [
       "<Figure size 432x288 with 1 Axes>"
      ]
     },
     "metadata": {
      "needs_background": "light"
     },
     "output_type": "display_data"
    },
    {
     "data": {
      "image/png": "[encoded data removed]",
      "text/plain": [
       "<Figure size 432x288 with 1 Axes>"
      ]
     },
     "metadata": {
      "needs_background": "light"
     },
     "output_type": "display_data"
    }
   ],
   "source": [
    "df.plot(y = 'Средняя цена авокадо в США (в долларах)')\n",
    "df.plot(y = 'Общее количество проданных авокадо (в фунтах)')\n",
    "df.plot(y = 'Количество запросов \"Здоровая еда\"')"
   ]
  },
  {
   "cell_type": "code",
   "execution_count": 12,
   "metadata": {},
   "outputs": [
    {
     "name": "stderr",
     "output_type": "stream",
     "text": [
      "INFO:fbprophet:Disabling weekly seasonality. Run prophet with weekly_seasonality=True to override this.\n",
      "INFO:fbprophet:Disabling daily seasonality. Run prophet with daily_seasonality=True to override this.\n"
     ]
    },
    {
     "data": {
      "image/png": "[encoded data removed]",
      "text/plain": [
       "<Figure size 720x432 with 1 Axes>"
      ]
     },
     "metadata": {},
     "output_type": "display_data"
    },
    {
     "data": {
      "image/png": "[encoded data removed]",
      "text/plain": [
       "<Figure size 648x432 with 2 Axes>"
      ]
     },
     "metadata": {},
     "output_type": "display_data"
    }
   ],
   "source": [
    "train_df = df[[COLUMN_NAME, 'Дата']].copy()\n",
    "train_df['y'] = train_df[COLUMN_NAME]\n",
    "train_df['ds'] = train_df['Дата']\n",
    "train_df = train_df[:-4]\n",
    "m = Prophet()\n",
    "m.fit(train_df)\n",
    "\n",
    "future = m.make_future_dataframe(periods=12, freq='M')\n",
    "fcst = m.predict(future)\n",
    "fig1 = m.plot(fcst)\n",
    "fig2 = m.plot_components(fcst)"
   ]
  },
  {
   "cell_type": "code",
   "execution_count": 13,
   "metadata": {
    "scrolled": false
   },
   "outputs": [
    {
     "data": {
      "application/vnd.plotly.v1+json": {
       "config": {
        "linkText": "Export to plot.ly",
        "plotlyServerURL": "https://plot.ly",
        "showLink": false
       },
       "data": [
        {
         "line": {
          "width": 0
         },
         "marker": {
          "color": "olive"
         },
         "mode": "lines",
         "name": "Lower Bound",
         "type": "scatter",
         "x": [
          "2015-01-31T00:00:00",
          "2015-02-28T00:00:00",
          "2015-03-31T00:00:00",
          "2015-04-30T00:00:00",
          "2015-05-31T00:00:00",
          "2015-06-30T00:00:00",
          "2015-07-31T00:00:00",
          "2015-08-31T00:00:00",
          "2015-09-30T00:00:00",
          "2015-10-31T00:00:00",
          "2015-11-30T00:00:00",
          "2015-12-31T00:00:00",
          "2016-01-31T00:00:00",
          "2016-02-29T00:00:00",
          "2016-03-31T00:00:00",
          "2016-04-30T00:00:00",
          "2016-05-31T00:00:00",
          "2016-06-30T00:00:00",
          "2016-07-31T00:00:00",
          "2016-08-31T00:00:00",
          "2016-09-30T00:00:00",
          "2016-10-31T00:00:00",
          "2016-11-30T00:00:00",
          "2016-12-31T00:00:00",
          "2017-01-31T00:00:00",
          "2017-02-28T00:00:00",
          "2017-03-31T00:00:00",
          "2017-04-30T00:00:00",
          "2017-05-31T00:00:00",
          "2017-06-30T00:00:00",
          "2017-07-31T00:00:00",
          "2017-08-31T00:00:00",
          "2017-09-30T00:00:00",
          "2017-10-31T00:00:00",
          "2017-11-30T00:00:00",
          "2017-12-31T00:00:00",
          "2018-01-31T00:00:00",
          "2018-02-28T00:00:00",
          "2018-03-31T00:00:00",
          "2018-04-30T00:00:00",
          "2018-05-31T00:00:00",
          "2018-06-30T00:00:00",
          "2018-07-31T00:00:00",
          "2018-08-31T00:00:00",
          "2018-09-30T00:00:00",
          "2018-10-31T00:00:00",
          "2018-11-30T00:00:00"
         ],
         "y": [
          1.2869016642958861,
          1.206549795330619,
          1.2682195116208568,
          1.3119822236532102,
          1.2896992640212137,
          1.3408142696438128,
          1.3454252670473716,
          1.409849579115174,
          1.4485662395217678,
          1.3500832309522053,
          1.2357599224275233,
          1.2464956231531423,
          1.1781919089217674,
          1.122490682622001,
          1.1760714182120755,
          1.1894276525220377,
          1.1897546848305813,
          1.2381227199681313,
          1.3086209651069278,
          1.364490506528252,
          1.4279754368198039,
          1.481474094972524,
          1.385777949677602,
          1.2437580852224241,
          1.229088501611656,
          1.2623234291875018,
          1.3489524655707823,
          1.3992305363623054,
          1.4041731968777469,
          1.459571045182006,
          1.5219857684154234,
          1.5869910193792232,
          1.6561669869068254,
          1.671920040141661,
          1.582323808064903,
          1.4932672350065124,
          1.4704006836537635,
          1.459186510216013,
          1.5500562594823222,
          1.6091579384296733,
          1.6161298771022505,
          1.682342631934178,
          1.7341932494027814,
          1.8067742049543236,
          1.8726737802644362,
          1.8447136849020431,
          1.7558296434576948
         ]
        },
        {
         "fill": "tonexty",
         "fillcolor": "rgba(68, 68, 68, 0.3)",
         "line": {
          "width": 0
         },
         "marker": {
          "color": "olive"
         },
         "mode": "lines",
         "name": "Upper Bound",
         "type": "scatter",
         "x": [
          "2015-01-31T00:00:00",
          "2015-02-28T00:00:00",
          "2015-03-31T00:00:00",
          "2015-04-30T00:00:00",
          "2015-05-31T00:00:00",
          "2015-06-30T00:00:00",
          "2015-07-31T00:00:00",
          "2015-08-31T00:00:00",
          "2015-09-30T00:00:00",
          "2015-10-31T00:00:00",
          "2015-11-30T00:00:00",
          "2015-12-31T00:00:00",
          "2016-01-31T00:00:00",
          "2016-02-29T00:00:00",
          "2016-03-31T00:00:00",
          "2016-04-30T00:00:00",
          "2016-05-31T00:00:00",
          "2016-06-30T00:00:00",
          "2016-07-31T00:00:00",
          "2016-08-31T00:00:00",
          "2016-09-30T00:00:00",
          "2016-10-31T00:00:00",
          "2016-11-30T00:00:00",
          "2016-12-31T00:00:00",
          "2017-01-31T00:00:00",
          "2017-02-28T00:00:00",
          "2017-03-31T00:00:00",
          "2017-04-30T00:00:00",
          "2017-05-31T00:00:00",
          "2017-06-30T00:00:00",
          "2017-07-31T00:00:00",
          "2017-08-31T00:00:00",
          "2017-09-30T00:00:00",
          "2017-10-31T00:00:00",
          "2017-11-30T00:00:00",
          "2017-12-31T00:00:00",
          "2018-01-31T00:00:00",
          "2018-02-28T00:00:00",
          "2018-03-31T00:00:00",
          "2018-04-30T00:00:00",
          "2018-05-31T00:00:00",
          "2018-06-30T00:00:00",
          "2018-07-31T00:00:00",
          "2018-08-31T00:00:00",
          "2018-09-30T00:00:00",
          "2018-10-31T00:00:00",
          "2018-11-30T00:00:00"
         ],
         "y": [
          1.4110467207656627,
          1.3299850446153203,
          1.3959481042421762,
          1.4354396571909542,
          1.416046426927665,
          1.4647482954067608,
          1.4721073178024804,
          1.5408624398166924,
          1.57183401747942,
          1.4806037270851407,
          1.3644596807820144,
          1.3769239930982173,
          1.305082887320002,
          1.2468759563055842,
          1.301429566295532,
          1.3177973965308707,
          1.3203962764124069,
          1.3690135235674545,
          1.4415390134363784,
          1.4885972881551877,
          1.5523102437957983,
          1.61234879260893,
          1.5153353638455598,
          1.3751004891913825,
          1.3600248208979475,
          1.3885305877173733,
          1.474439599416128,
          1.527330976977066,
          1.5340079415036858,
          1.5866809626814917,
          1.6558917676220026,
          1.7106827441286114,
          1.7774207187272273,
          1.7984142705578092,
          1.7051167544848398,
          1.620695033561921,
          1.6040225629479004,
          1.5900200500482387,
          1.6778416093035202,
          1.7403307061229998,
          1.7470321351346938,
          1.817582389208985,
          1.8709646112489717,
          1.949998984166451,
          2.0153227344173654,
          1.988458619939795,
          1.9061423845304468
         ]
        },
        {
         "line": {
          "color": "rgb(31, 119, 180)"
         },
         "mode": "lines",
         "name": "Prediction",
         "type": "scatter",
         "x": [
          "2015-01-31T00:00:00",
          "2015-02-28T00:00:00",
          "2015-03-31T00:00:00",
          "2015-04-30T00:00:00",
          "2015-05-31T00:00:00",
          "2015-06-30T00:00:00",
          "2015-07-31T00:00:00",
          "2015-08-31T00:00:00",
          "2015-09-30T00:00:00",
          "2015-10-31T00:00:00",
          "2015-11-30T00:00:00",
          "2015-12-31T00:00:00",
          "2016-01-31T00:00:00",
          "2016-02-29T00:00:00",
          "2016-03-31T00:00:00",
          "2016-04-30T00:00:00",
          "2016-05-31T00:00:00",
          "2016-06-30T00:00:00",
          "2016-07-31T00:00:00",
          "2016-08-31T00:00:00",
          "2016-09-30T00:00:00",
          "2016-10-31T00:00:00",
          "2016-11-30T00:00:00",
          "2016-12-31T00:00:00",
          "2017-01-31T00:00:00",
          "2017-02-28T00:00:00",
          "2017-03-31T00:00:00",
          "2017-04-30T00:00:00",
          "2017-05-31T00:00:00",
          "2017-06-30T00:00:00",
          "2017-07-31T00:00:00",
          "2017-08-31T00:00:00",
          "2017-09-30T00:00:00",
          "2017-10-31T00:00:00",
          "2017-11-30T00:00:00",
          "2017-12-31T00:00:00",
          "2018-01-31T00:00:00",
          "2018-02-28T00:00:00",
          "2018-03-31T00:00:00",
          "2018-04-30T00:00:00",
          "2018-05-31T00:00:00",
          "2018-06-30T00:00:00",
          "2018-07-31T00:00:00",
          "2018-08-31T00:00:00",
          "2018-09-30T00:00:00",
          "2018-10-31T00:00:00",
          "2018-11-30T00:00:00"
         ],
         "y": [
          1.3458940355113242,
          1.2668600760766853,
          1.3321896966016566,
          1.3734745183341706,
          1.3505109658321133,
          1.401184241110105,
          1.4087240603884637,
          1.4772870095935435,
          1.5119167244688718,
          1.4172463610683483,
          1.3029534681899215,
          1.308517331791671,
          1.2414089614642143,
          1.1849956163141617,
          1.2393646781885657,
          1.2529740783642251,
          1.257027843066478,
          1.3009271679085477,
          1.3779355023236626,
          1.424532955335295,
          1.4889131875573074,
          1.5490810814800557,
          1.453667888942939,
          1.3130377464520726,
          1.295882664512096,
          1.3270208302627577,
          1.4136364301839277,
          1.4644708239247466,
          1.469266677680693,
          1.5251130497372647,
          1.5887626309458331,
          1.6525115245519963,
          1.7171687827650506,
          1.7352436052596663,
          1.641496593253142,
          1.5594388136565176,
          1.5366446886949754,
          1.5259896361447014,
          1.616302785149264,
          1.6764162381027723,
          1.68193207491332,
          1.749457043922016,
          1.799691872312103,
          1.8805166820242352,
          1.9446939624654604,
          1.9208882004575163,
          1.8302796013228715
         ]
        },
        {
         "marker": {
          "color": "red"
         },
         "mode": "lines",
         "name": "Fact",
         "type": "scatter",
         "x": [
          "2015-01-31T00:00:00",
          "2015-02-28T00:00:00",
          "2015-03-31T00:00:00",
          "2015-04-30T00:00:00",
          "2015-05-31T00:00:00",
          "2015-06-30T00:00:00",
          "2015-07-31T00:00:00",
          "2015-08-31T00:00:00",
          "2015-09-30T00:00:00",
          "2015-10-31T00:00:00",
          "2015-11-30T00:00:00",
          "2015-12-31T00:00:00",
          "2016-01-31T00:00:00",
          "2016-02-29T00:00:00",
          "2016-03-31T00:00:00",
          "2016-04-30T00:00:00",
          "2016-05-31T00:00:00",
          "2016-06-30T00:00:00",
          "2016-07-31T00:00:00",
          "2016-08-31T00:00:00",
          "2016-09-30T00:00:00",
          "2016-10-31T00:00:00",
          "2016-11-30T00:00:00",
          "2016-12-31T00:00:00",
          "2017-01-31T00:00:00",
          "2017-02-28T00:00:00",
          "2017-03-31T00:00:00",
          "2017-04-30T00:00:00",
          "2017-05-31T00:00:00",
          "2017-06-30T00:00:00",
          "2017-07-31T00:00:00",
          "2017-08-31T00:00:00",
          "2017-09-30T00:00:00",
          "2017-10-31T00:00:00",
          "2017-11-30T00:00:00",
          "2017-12-31T00:00:00",
          "2018-01-31T00:00:00",
          "2018-02-28T00:00:00",
          "2018-03-31T00:00:00",
          "2018-04-30T00:00:00",
          "2018-05-31T00:00:00",
          "2018-06-30T00:00:00",
          "2018-07-31T00:00:00",
          "2018-08-31T00:00:00",
          "2018-09-30T00:00:00",
          "2018-10-31T00:00:00",
          "2018-11-30T00:00:00"
         ],
         "y": [
          1.365046296,
          1.326944444,
          1.361981481,
          1.383449074,
          1.344685185,
          1.399074074,
          1.409444444,
          1.444481481,
          1.4491435190000002,
          1.3919675930000002,
          1.3306111109999998,
          1.305243619,
          1.240185185,
          1.2371064809999999,
          1.224212963,
          1.205023148,
          1.1997222220000001,
          1.2830555559999999,
          1.4013333330000002,
          1.4111111109999999,
          1.42787037,
          1.5570925930000001,
          1.5500231480000002,
          1.31599537,
          1.2775,
          1.214791667,
          1.398935185,
          1.502611111,
          1.5325925930000002,
          1.545395349,
          1.564925926,
          1.6989583330000002,
          1.840949074,
          1.752444444,
          1.5172916669999998,
          1.3638518519999998,
          1.387430556,
          1.318703704,
          1.336458333,
          null,
          null,
          null,
          null,
          null,
          null,
          null,
          null
         ]
        }
       ],
       "layout": {
        "showlegend": false,
        "template": {
         "data": {
          "bar": [
           {
            "error_x": {
             "color": "#2a3f5f"
            },
            "error_y": {
             "color": "#2a3f5f"
            },
            "marker": {
             "line": {
              "color": "#E5ECF6",
              "width": 0.5
             }
            },
            "type": "bar"
           }
          ],
          "barpolar": [
           {
            "marker": {
             "line": {
              "color": "#E5ECF6",
              "width": 0.5
             }
            },
            "type": "barpolar"
           }
          ],
          "carpet": [
           {
            "aaxis": {
             "endlinecolor": "#2a3f5f",
             "gridcolor": "white",
             "linecolor": "white",
             "minorgridcolor": "white",
             "startlinecolor": "#2a3f5f"
            },
            "baxis": {
             "endlinecolor": "#2a3f5f",
             "gridcolor": "white",
             "linecolor": "white",
             "minorgridcolor": "white",
             "startlinecolor": "#2a3f5f"
            },
            "type": "carpet"
           }
          ],
          "choropleth": [
           {
            "colorbar": {
             "outlinewidth": 0,
             "ticks": ""
            },
            "type": "choropleth"
           }
          ],
          "contour": [
           {
            "colorbar": {
             "outlinewidth": 0,
             "ticks": ""
            },
            "colorscale": [
             [
              0,
              "#0d0887"
             ],
             [
              0.1111111111111111,
              "#46039f"
             ],
             [
              0.2222222222222222,
              "#7201a8"
             ],
             [
              0.3333333333333333,
              "#9c179e"
             ],
             [
              0.4444444444444444,
              "#bd3786"
             ],
             [
              0.5555555555555556,
              "#d8576b"
             ],
             [
              0.6666666666666666,
              "#ed7953"
             ],
             [
              0.7777777777777778,
              "#fb9f3a"
             ],
             [
              0.8888888888888888,
              "#fdca26"
             ],
             [
              1,
              "#f0f921"
             ]
            ],
            "type": "contour"
           }
          ],
          "contourcarpet": [
           {
            "colorbar": {
             "outlinewidth": 0,
             "ticks": ""
            },
            "type": "contourcarpet"
           }
          ],
          "heatmap": [
           {
            "colorbar": {
             "outlinewidth": 0,
             "ticks": ""
            },
            "colorscale": [
             [
              0,
              "#0d0887"
             ],
             [
              0.1111111111111111,
              "#46039f"
             ],
             [
              0.2222222222222222,
              "#7201a8"
             ],
             [
              0.3333333333333333,
              "#9c179e"
             ],
             [
              0.4444444444444444,
              "#bd3786"
             ],
             [
              0.5555555555555556,
              "#d8576b"
             ],
             [
              0.6666666666666666,
              "#ed7953"
             ],
             [
              0.7777777777777778,
              "#fb9f3a"
             ],
             [
              0.8888888888888888,
              "#fdca26"
             ],
             [
              1,
              "#f0f921"
             ]
            ],
            "type": "heatmap"
           }
          ],
          "heatmapgl": [
           {
            "colorbar": {
             "outlinewidth": 0,
             "ticks": ""
            },
            "colorscale": [
             [
              0,
              "#0d0887"
             ],
             [
              0.1111111111111111,
              "#46039f"
             ],
             [
              0.2222222222222222,
              "#7201a8"
             ],
             [
              0.3333333333333333,
              "#9c179e"
             ],
             [
              0.4444444444444444,
              "#bd3786"
             ],
             [
              0.5555555555555556,
              "#d8576b"
             ],
             [
              0.6666666666666666,
              "#ed7953"
             ],
             [
              0.7777777777777778,
              "#fb9f3a"
             ],
             [
              0.8888888888888888,
              "#fdca26"
             ],
             [
              1,
              "#f0f921"
             ]
            ],
            "type": "heatmapgl"
           }
          ],
          "histogram": [
           {
            "marker": {
             "colorbar": {
              "outlinewidth": 0,
              "ticks": ""
             }
            },
            "type": "histogram"
           }
          ],
          "histogram2d": [
           {
            "colorbar": {
             "outlinewidth": 0,
             "ticks": ""
            },
            "colorscale": [
             [
              0,
              "#0d0887"
             ],
             [
              0.1111111111111111,
              "#46039f"
             ],
             [
              0.2222222222222222,
              "#7201a8"
             ],
             [
              0.3333333333333333,
              "#9c179e"
             ],
             [
              0.4444444444444444,
              "#bd3786"
             ],
             [
              0.5555555555555556,
              "#d8576b"
             ],
             [
              0.6666666666666666,
              "#ed7953"
             ],
             [
              0.7777777777777778,
              "#fb9f3a"
             ],
             [
              0.8888888888888888,
              "#fdca26"
             ],
             [
              1,
              "#f0f921"
             ]
            ],
            "type": "histogram2d"
           }
          ],
          "histogram2dcontour": [
           {
            "colorbar": {
             "outlinewidth": 0,
             "ticks": ""
            },
            "colorscale": [
             [
              0,
              "#0d0887"
             ],
             [
              0.1111111111111111,
              "#46039f"
             ],
             [
              0.2222222222222222,
              "#7201a8"
             ],
             [
              0.3333333333333333,
              "#9c179e"
             ],
             [
              0.4444444444444444,
              "#bd3786"
             ],
             [
              0.5555555555555556,
              "#d8576b"
             ],
             [
              0.6666666666666666,
              "#ed7953"
             ],
             [
              0.7777777777777778,
              "#fb9f3a"
             ],
             [
              0.8888888888888888,
              "#fdca26"
             ],
             [
              1,
              "#f0f921"
             ]
            ],
            "type": "histogram2dcontour"
           }
          ],
          "mesh3d": [
           {
            "colorbar": {
             "outlinewidth": 0,
             "ticks": ""
            },
            "type": "mesh3d"
           }
          ],
          "parcoords": [
           {
            "line": {
             "colorbar": {
              "outlinewidth": 0,
              "ticks": ""
             }
            },
            "type": "parcoords"
           }
          ],
          "scatter": [
           {
            "marker": {
             "colorbar": {
              "outlinewidth": 0,
              "ticks": ""
             }
            },
            "type": "scatter"
           }
          ],
          "scatter3d": [
           {
            "line": {
             "colorbar": {
              "outlinewidth": 0,
              "ticks": ""
             }
            },
            "marker": {
             "colorbar": {
              "outlinewidth": 0,
              "ticks": ""
             }
            },
            "type": "scatter3d"
           }
          ],
          "scattercarpet": [
           {
            "marker": {
             "colorbar": {
              "outlinewidth": 0,
              "ticks": ""
             }
            },
            "type": "scattercarpet"
           }
          ],
          "scattergeo": [
           {
            "marker": {
             "colorbar": {
              "outlinewidth": 0,
              "ticks": ""
             }
            },
            "type": "scattergeo"
           }
          ],
          "scattergl": [
           {
            "marker": {
             "colorbar": {
              "outlinewidth": 0,
              "ticks": ""
             }
            },
            "type": "scattergl"
           }
          ],
          "scattermapbox": [
           {
            "marker": {
             "colorbar": {
              "outlinewidth": 0,
              "ticks": ""
             }
            },
            "type": "scattermapbox"
           }
          ],
          "scatterpolar": [
           {
            "marker": {
             "colorbar": {
              "outlinewidth": 0,
              "ticks": ""
             }
            },
            "type": "scatterpolar"
           }
          ],
          "scatterpolargl": [
           {
            "marker": {
             "colorbar": {
              "outlinewidth": 0,
              "ticks": ""
             }
            },
            "type": "scatterpolargl"
           }
          ],
          "scatterternary": [
           {
            "marker": {
             "colorbar": {
              "outlinewidth": 0,
              "ticks": ""
             }
            },
            "type": "scatterternary"
           }
          ],
          "surface": [
           {
            "colorbar": {
             "outlinewidth": 0,
             "ticks": ""
            },
            "colorscale": [
             [
              0,
              "#0d0887"
             ],
             [
              0.1111111111111111,
              "#46039f"
             ],
             [
              0.2222222222222222,
              "#7201a8"
             ],
             [
              0.3333333333333333,
              "#9c179e"
             ],
             [
              0.4444444444444444,
              "#bd3786"
             ],
             [
              0.5555555555555556,
              "#d8576b"
             ],
             [
              0.6666666666666666,
              "#ed7953"
             ],
             [
              0.7777777777777778,
              "#fb9f3a"
             ],
             [
              0.8888888888888888,
              "#fdca26"
             ],
             [
              1,
              "#f0f921"
             ]
            ],
            "type": "surface"
           }
          ],
          "table": [
           {
            "cells": {
             "fill": {
              "color": "#EBF0F8"
             },
             "line": {
              "color": "white"
             }
            },
            "header": {
             "fill": {
              "color": "#C8D4E3"
             },
             "line": {
              "color": "white"
             }
            },
            "type": "table"
           }
          ]
         },
         "layout": {
          "annotationdefaults": {
           "arrowcolor": "#2a3f5f",
           "arrowhead": 0,
           "arrowwidth": 1
          },
          "colorscale": {
           "diverging": [
            [
             0,
             "#8e0152"
            ],
            [
             0.1,
             "#c51b7d"
            ],
            [
             0.2,
             "#de77ae"
            ],
            [
             0.3,
             "#f1b6da"
            ],
            [
             0.4,
             "#fde0ef"
            ],
            [
             0.5,
             "#f7f7f7"
            ],
            [
             0.6,
             "#e6f5d0"
            ],
            [
             0.7,
             "#b8e186"
            ],
            [
             0.8,
             "#7fbc41"
            ],
            [
             0.9,
             "#4d9221"
            ],
            [
             1,
             "#276419"
            ]
           ],
           "sequential": [
            [
             0,
             "#0d0887"
            ],
            [
             0.1111111111111111,
             "#46039f"
            ],
            [
             0.2222222222222222,
             "#7201a8"
            ],
            [
             0.3333333333333333,
             "#9c179e"
            ],
            [
             0.4444444444444444,
             "#bd3786"
            ],
            [
             0.5555555555555556,
             "#d8576b"
            ],
            [
             0.6666666666666666,
             "#ed7953"
            ],
            [
             0.7777777777777778,
             "#fb9f3a"
            ],
            [
             0.8888888888888888,
             "#fdca26"
            ],
            [
             1,
             "#f0f921"
            ]
           ],
           "sequentialminus": [
            [
             0,
             "#0d0887"
            ],
            [
             0.1111111111111111,
             "#46039f"
            ],
            [
             0.2222222222222222,
             "#7201a8"
            ],
            [
             0.3333333333333333,
             "#9c179e"
            ],
            [
             0.4444444444444444,
             "#bd3786"
            ],
            [
             0.5555555555555556,
             "#d8576b"
            ],
            [
             0.6666666666666666,
             "#ed7953"
            ],
            [
             0.7777777777777778,
             "#fb9f3a"
            ],
            [
             0.8888888888888888,
             "#fdca26"
            ],
            [
             1,
             "#f0f921"
            ]
           ]
          },
          "colorway": [
           "#636efa",
           "#EF553B",
           "#00cc96",
           "#ab63fa",
           "#FFA15A",
           "#19d3f3",
           "#FF6692",
           "#B6E880",
           "#FF97FF",
           "#FECB52"
          ],
          "font": {
           "color": "#2a3f5f"
          },
          "geo": {
           "bgcolor": "white",
           "lakecolor": "white",
           "landcolor": "#E5ECF6",
           "showlakes": true,
           "showland": true,
           "subunitcolor": "white"
          },
          "hoverlabel": {
           "align": "left"
          },
          "hovermode": "closest",
          "mapbox": {
           "style": "light"
          },
          "paper_bgcolor": "white",
          "plot_bgcolor": "#E5ECF6",
          "polar": {
           "angularaxis": {
            "gridcolor": "white",
            "linecolor": "white",
            "ticks": ""
           },
           "bgcolor": "#E5ECF6",
           "radialaxis": {
            "gridcolor": "white",
            "linecolor": "white",
            "ticks": ""
           }
          },
          "scene": {
           "xaxis": {
            "backgroundcolor": "#E5ECF6",
            "gridcolor": "white",
            "gridwidth": 2,
            "linecolor": "white",
            "showbackground": true,
            "ticks": "",
            "zerolinecolor": "white"
           },
           "yaxis": {
            "backgroundcolor": "#E5ECF6",
            "gridcolor": "white",
            "gridwidth": 2,
            "linecolor": "white",
            "showbackground": true,
            "ticks": "",
            "zerolinecolor": "white"
           },
           "zaxis": {
            "backgroundcolor": "#E5ECF6",
            "gridcolor": "white",
            "gridwidth": 2,
            "linecolor": "white",
            "showbackground": true,
            "ticks": "",
            "zerolinecolor": "white"
           }
          },
          "shapedefaults": {
           "line": {
            "color": "#2a3f5f"
           }
          },
          "ternary": {
           "aaxis": {
            "gridcolor": "white",
            "linecolor": "white",
            "ticks": ""
           },
           "baxis": {
            "gridcolor": "white",
            "linecolor": "white",
            "ticks": ""
           },
           "bgcolor": "#E5ECF6",
           "caxis": {
            "gridcolor": "white",
            "linecolor": "white",
            "ticks": ""
           }
          },
          "title": {
           "x": 0.05
          },
          "xaxis": {
           "automargin": true,
           "gridcolor": "white",
           "linecolor": "white",
           "ticks": "",
           "zerolinecolor": "white",
           "zerolinewidth": 2
          },
          "yaxis": {
           "automargin": true,
           "gridcolor": "white",
           "linecolor": "white",
           "ticks": "",
           "zerolinecolor": "white",
           "zerolinewidth": 2
          }
         }
        },
        "yaxis": {
         "title": {
          "text": "Средняя цена авокадо в США (в долларах)"
         }
        }
       }
      },
      "text/html": [
       "<div>\n",
       "        \n",
       "        \n",
       "            <div id=\"309b3e93-8c2b-4d2d-996f-e1ad0b2c861b\" class=\"plotly-graph-div\" style=\"height:525px; width:100%;\"></div>\n",
       "            <script type=\"text/javascript\">\n",
       "                require([\"plotly\"], function(Plotly) {\n",
       "                    window.PLOTLYENV=window.PLOTLYENV || {};\n",
       "                    \n",
       "                if (document.getElementById(\"309b3e93-8c2b-4d2d-996f-e1ad0b2c861b\")) {\n",
       "                    Plotly.newPlot(\n",
       "                        '309b3e93-8c2b-4d2d-996f-e1ad0b2c861b',\n",
       "                        [{\"line\": {\"width\": 0}, \"marker\": {\"color\": \"olive\"}, \"mode\": \"lines\", \"name\": \"Lower Bound\", \"type\": \"scatter\", \"x\": [\"2015-01-31T00:00:00\", \"2015-02-28T00:00:00\", \"2015-03-31T00:00:00\", \"2015-04-30T00:00:00\", \"2015-05-31T00:00:00\", \"2015-06-30T00:00:00\", \"2015-07-31T00:00:00\", \"2015-08-31T00:00:00\", \"2015-09-30T00:00:00\", \"2015-10-31T00:00:00\", \"2015-11-30T00:00:00\", \"2015-12-31T00:00:00\", \"2016-01-31T00:00:00\", \"2016-02-29T00:00:00\", \"2016-03-31T00:00:00\", \"2016-04-30T00:00:00\", \"2016-05-31T00:00:00\", \"2016-06-30T00:00:00\", \"2016-07-31T00:00:00\", \"2016-08-31T00:00:00\", \"2016-09-30T00:00:00\", \"2016-10-31T00:00:00\", \"2016-11-30T00:00:00\", \"2016-12-31T00:00:00\", \"2017-01-31T00:00:00\", \"2017-02-28T00:00:00\", \"2017-03-31T00:00:00\", \"2017-04-30T00:00:00\", \"2017-05-31T00:00:00\", \"2017-06-30T00:00:00\", \"2017-07-31T00:00:00\", \"2017-08-31T00:00:00\", \"2017-09-30T00:00:00\", \"2017-10-31T00:00:00\", \"2017-11-30T00:00:00\", \"2017-12-31T00:00:00\", \"2018-01-31T00:00:00\", \"2018-02-28T00:00:00\", \"2018-03-31T00:00:00\", \"2018-04-30T00:00:00\", \"2018-05-31T00:00:00\", \"2018-06-30T00:00:00\", \"2018-07-31T00:00:00\", \"2018-08-31T00:00:00\", \"2018-09-30T00:00:00\", \"2018-10-31T00:00:00\", \"2018-11-30T00:00:00\"], \"y\": [1.2869016642958861, 1.206549795330619, 1.2682195116208568, 1.3119822236532102, 1.2896992640212137, 1.3408142696438128, 1.3454252670473716, 1.409849579115174, 1.4485662395217678, 1.3500832309522053, 1.2357599224275233, 1.2464956231531423, 1.1781919089217674, 1.122490682622001, 1.1760714182120755, 1.1894276525220377, 1.1897546848305813, 1.2381227199681313, 1.3086209651069278, 1.364490506528252, 1.4279754368198039, 1.481474094972524, 1.385777949677602, 1.2437580852224241, 1.229088501611656, 1.2623234291875018, 1.3489524655707823, 1.3992305363623054, 1.4041731968777469, 1.459571045182006, 1.5219857684154234, 1.5869910193792232, 1.6561669869068254, 1.671920040141661, 1.582323808064903, 1.4932672350065124, 1.4704006836537635, 1.459186510216013, 1.5500562594823222, 1.6091579384296733, 1.6161298771022505, 1.682342631934178, 1.7341932494027814, 1.8067742049543236, 1.8726737802644362, 1.8447136849020431, 1.7558296434576948]}, {\"fill\": \"tonexty\", \"fillcolor\": \"rgba(68, 68, 68, 0.3)\", \"line\": {\"width\": 0}, \"marker\": {\"color\": \"olive\"}, \"mode\": \"lines\", \"name\": \"Upper Bound\", \"type\": \"scatter\", \"x\": [\"2015-01-31T00:00:00\", \"2015-02-28T00:00:00\", \"2015-03-31T00:00:00\", \"2015-04-30T00:00:00\", \"2015-05-31T00:00:00\", \"2015-06-30T00:00:00\", \"2015-07-31T00:00:00\", \"2015-08-31T00:00:00\", \"2015-09-30T00:00:00\", \"2015-10-31T00:00:00\", \"2015-11-30T00:00:00\", \"2015-12-31T00:00:00\", \"2016-01-31T00:00:00\", \"2016-02-29T00:00:00\", \"2016-03-31T00:00:00\", \"2016-04-30T00:00:00\", \"2016-05-31T00:00:00\", \"2016-06-30T00:00:00\", \"2016-07-31T00:00:00\", \"2016-08-31T00:00:00\", \"2016-09-30T00:00:00\", \"2016-10-31T00:00:00\", \"2016-11-30T00:00:00\", \"2016-12-31T00:00:00\", \"2017-01-31T00:00:00\", \"2017-02-28T00:00:00\", \"2017-03-31T00:00:00\", \"2017-04-30T00:00:00\", \"2017-05-31T00:00:00\", \"2017-06-30T00:00:00\", \"2017-07-31T00:00:00\", \"2017-08-31T00:00:00\", \"2017-09-30T00:00:00\", \"2017-10-31T00:00:00\", \"2017-11-30T00:00:00\", \"2017-12-31T00:00:00\", \"2018-01-31T00:00:00\", \"2018-02-28T00:00:00\", \"2018-03-31T00:00:00\", \"2018-04-30T00:00:00\", \"2018-05-31T00:00:00\", \"2018-06-30T00:00:00\", \"2018-07-31T00:00:00\", \"2018-08-31T00:00:00\", \"2018-09-30T00:00:00\", \"2018-10-31T00:00:00\", \"2018-11-30T00:00:00\"], \"y\": [1.4110467207656627, 1.3299850446153203, 1.3959481042421762, 1.4354396571909542, 1.416046426927665, 1.4647482954067608, 1.4721073178024804, 1.5408624398166924, 1.57183401747942, 1.4806037270851407, 1.3644596807820144, 1.3769239930982173, 1.305082887320002, 1.2468759563055842, 1.301429566295532, 1.3177973965308707, 1.3203962764124069, 1.3690135235674545, 1.4415390134363784, 1.4885972881551877, 1.5523102437957983, 1.61234879260893, 1.5153353638455598, 1.3751004891913825, 1.3600248208979475, 1.3885305877173733, 1.474439599416128, 1.527330976977066, 1.5340079415036858, 1.5866809626814917, 1.6558917676220026, 1.7106827441286114, 1.7774207187272273, 1.7984142705578092, 1.7051167544848398, 1.620695033561921, 1.6040225629479004, 1.5900200500482387, 1.6778416093035202, 1.7403307061229998, 1.7470321351346938, 1.817582389208985, 1.8709646112489717, 1.949998984166451, 2.0153227344173654, 1.988458619939795, 1.9061423845304468]}, {\"line\": {\"color\": \"rgb(31, 119, 180)\"}, \"mode\": \"lines\", \"name\": \"Prediction\", \"type\": \"scatter\", \"x\": [\"2015-01-31T00:00:00\", \"2015-02-28T00:00:00\", \"2015-03-31T00:00:00\", \"2015-04-30T00:00:00\", \"2015-05-31T00:00:00\", \"2015-06-30T00:00:00\", \"2015-07-31T00:00:00\", \"2015-08-31T00:00:00\", \"2015-09-30T00:00:00\", \"2015-10-31T00:00:00\", \"2015-11-30T00:00:00\", \"2015-12-31T00:00:00\", \"2016-01-31T00:00:00\", \"2016-02-29T00:00:00\", \"2016-03-31T00:00:00\", \"2016-04-30T00:00:00\", \"2016-05-31T00:00:00\", \"2016-06-30T00:00:00\", \"2016-07-31T00:00:00\", \"2016-08-31T00:00:00\", \"2016-09-30T00:00:00\", \"2016-10-31T00:00:00\", \"2016-11-30T00:00:00\", \"2016-12-31T00:00:00\", \"2017-01-31T00:00:00\", \"2017-02-28T00:00:00\", \"2017-03-31T00:00:00\", \"2017-04-30T00:00:00\", \"2017-05-31T00:00:00\", \"2017-06-30T00:00:00\", \"2017-07-31T00:00:00\", \"2017-08-31T00:00:00\", \"2017-09-30T00:00:00\", \"2017-10-31T00:00:00\", \"2017-11-30T00:00:00\", \"2017-12-31T00:00:00\", \"2018-01-31T00:00:00\", \"2018-02-28T00:00:00\", \"2018-03-31T00:00:00\", \"2018-04-30T00:00:00\", \"2018-05-31T00:00:00\", \"2018-06-30T00:00:00\", \"2018-07-31T00:00:00\", \"2018-08-31T00:00:00\", \"2018-09-30T00:00:00\", \"2018-10-31T00:00:00\", \"2018-11-30T00:00:00\"], \"y\": [1.3458940355113242, 1.2668600760766853, 1.3321896966016566, 1.3734745183341706, 1.3505109658321133, 1.401184241110105, 1.4087240603884637, 1.4772870095935435, 1.5119167244688718, 1.4172463610683483, 1.3029534681899215, 1.308517331791671, 1.2414089614642143, 1.1849956163141617, 1.2393646781885657, 1.2529740783642251, 1.257027843066478, 1.3009271679085477, 1.3779355023236626, 1.424532955335295, 1.4889131875573074, 1.5490810814800557, 1.453667888942939, 1.3130377464520726, 1.295882664512096, 1.3270208302627577, 1.4136364301839277, 1.4644708239247466, 1.469266677680693, 1.5251130497372647, 1.5887626309458331, 1.6525115245519963, 1.7171687827650506, 1.7352436052596663, 1.641496593253142, 1.5594388136565176, 1.5366446886949754, 1.5259896361447014, 1.616302785149264, 1.6764162381027723, 1.68193207491332, 1.749457043922016, 1.799691872312103, 1.8805166820242352, 1.9446939624654604, 1.9208882004575163, 1.8302796013228715]}, {\"marker\": {\"color\": \"red\"}, \"mode\": \"lines\", \"name\": \"Fact\", \"type\": \"scatter\", \"x\": [\"2015-01-31T00:00:00\", \"2015-02-28T00:00:00\", \"2015-03-31T00:00:00\", \"2015-04-30T00:00:00\", \"2015-05-31T00:00:00\", \"2015-06-30T00:00:00\", \"2015-07-31T00:00:00\", \"2015-08-31T00:00:00\", \"2015-09-30T00:00:00\", \"2015-10-31T00:00:00\", \"2015-11-30T00:00:00\", \"2015-12-31T00:00:00\", \"2016-01-31T00:00:00\", \"2016-02-29T00:00:00\", \"2016-03-31T00:00:00\", \"2016-04-30T00:00:00\", \"2016-05-31T00:00:00\", \"2016-06-30T00:00:00\", \"2016-07-31T00:00:00\", \"2016-08-31T00:00:00\", \"2016-09-30T00:00:00\", \"2016-10-31T00:00:00\", \"2016-11-30T00:00:00\", \"2016-12-31T00:00:00\", \"2017-01-31T00:00:00\", \"2017-02-28T00:00:00\", \"2017-03-31T00:00:00\", \"2017-04-30T00:00:00\", \"2017-05-31T00:00:00\", \"2017-06-30T00:00:00\", \"2017-07-31T00:00:00\", \"2017-08-31T00:00:00\", \"2017-09-30T00:00:00\", \"2017-10-31T00:00:00\", \"2017-11-30T00:00:00\", \"2017-12-31T00:00:00\", \"2018-01-31T00:00:00\", \"2018-02-28T00:00:00\", \"2018-03-31T00:00:00\", \"2018-04-30T00:00:00\", \"2018-05-31T00:00:00\", \"2018-06-30T00:00:00\", \"2018-07-31T00:00:00\", \"2018-08-31T00:00:00\", \"2018-09-30T00:00:00\", \"2018-10-31T00:00:00\", \"2018-11-30T00:00:00\"], \"y\": [1.365046296, 1.326944444, 1.361981481, 1.383449074, 1.344685185, 1.399074074, 1.409444444, 1.444481481, 1.4491435190000002, 1.3919675930000002, 1.3306111109999998, 1.305243619, 1.240185185, 1.2371064809999999, 1.224212963, 1.205023148, 1.1997222220000001, 1.2830555559999999, 1.4013333330000002, 1.4111111109999999, 1.42787037, 1.5570925930000001, 1.5500231480000002, 1.31599537, 1.2775, 1.214791667, 1.398935185, 1.502611111, 1.5325925930000002, 1.545395349, 1.564925926, 1.6989583330000002, 1.840949074, 1.752444444, 1.5172916669999998, 1.3638518519999998, 1.387430556, 1.318703704, 1.336458333, null, null, null, null, null, null, null, null]}],\n",
       "                        {\"showlegend\": false, \"template\": {\"data\": {\"bar\": [{\"error_x\": {\"color\": \"#2a3f5f\"}, \"error_y\": {\"color\": \"#2a3f5f\"}, \"marker\": {\"line\": {\"color\": \"#E5ECF6\", \"width\": 0.5}}, \"type\": \"bar\"}], \"barpolar\": [{\"marker\": {\"line\": {\"color\": \"#E5ECF6\", \"width\": 0.5}}, \"type\": \"barpolar\"}], \"carpet\": [{\"aaxis\": {\"endlinecolor\": \"#2a3f5f\", \"gridcolor\": \"white\", \"linecolor\": \"white\", \"minorgridcolor\": \"white\", \"startlinecolor\": \"#2a3f5f\"}, \"baxis\": {\"endlinecolor\": \"#2a3f5f\", \"gridcolor\": \"white\", \"linecolor\": \"white\", \"minorgridcolor\": \"white\", \"startlinecolor\": \"#2a3f5f\"}, \"type\": \"carpet\"}], \"choropleth\": [{\"colorbar\": {\"outlinewidth\": 0, \"ticks\": \"\"}, \"type\": \"choropleth\"}], \"contour\": [{\"colorbar\": {\"outlinewidth\": 0, \"ticks\": \"\"}, \"colorscale\": [[0.0, \"#0d0887\"], [0.1111111111111111, \"#46039f\"], [0.2222222222222222, \"#7201a8\"], [0.3333333333333333, \"#9c179e\"], [0.4444444444444444, \"#bd3786\"], [0.5555555555555556, \"#d8576b\"], [0.6666666666666666, \"#ed7953\"], [0.7777777777777778, \"#fb9f3a\"], [0.8888888888888888, \"#fdca26\"], [1.0, \"#f0f921\"]], \"type\": \"contour\"}], \"contourcarpet\": [{\"colorbar\": {\"outlinewidth\": 0, \"ticks\": \"\"}, \"type\": \"contourcarpet\"}], \"heatmap\": [{\"colorbar\": {\"outlinewidth\": 0, \"ticks\": \"\"}, \"colorscale\": [[0.0, \"#0d0887\"], [0.1111111111111111, \"#46039f\"], [0.2222222222222222, \"#7201a8\"], [0.3333333333333333, \"#9c179e\"], [0.4444444444444444, \"#bd3786\"], [0.5555555555555556, \"#d8576b\"], [0.6666666666666666, \"#ed7953\"], [0.7777777777777778, \"#fb9f3a\"], [0.8888888888888888, \"#fdca26\"], [1.0, \"#f0f921\"]], \"type\": \"heatmap\"}], \"heatmapgl\": [{\"colorbar\": {\"outlinewidth\": 0, \"ticks\": \"\"}, \"colorscale\": [[0.0, \"#0d0887\"], [0.1111111111111111, \"#46039f\"], [0.2222222222222222, \"#7201a8\"], [0.3333333333333333, \"#9c179e\"], [0.4444444444444444, \"#bd3786\"], [0.5555555555555556, \"#d8576b\"], [0.6666666666666666, \"#ed7953\"], [0.7777777777777778, \"#fb9f3a\"], [0.8888888888888888, \"#fdca26\"], [1.0, \"#f0f921\"]], \"type\": \"heatmapgl\"}], \"histogram\": [{\"marker\": {\"colorbar\": {\"outlinewidth\": 0, \"ticks\": \"\"}}, \"type\": \"histogram\"}], \"histogram2d\": [{\"colorbar\": {\"outlinewidth\": 0, \"ticks\": \"\"}, \"colorscale\": [[0.0, \"#0d0887\"], [0.1111111111111111, \"#46039f\"], [0.2222222222222222, \"#7201a8\"], [0.3333333333333333, \"#9c179e\"], [0.4444444444444444, \"#bd3786\"], [0.5555555555555556, \"#d8576b\"], [0.6666666666666666, \"#ed7953\"], [0.7777777777777778, \"#fb9f3a\"], [0.8888888888888888, \"#fdca26\"], [1.0, \"#f0f921\"]], \"type\": \"histogram2d\"}], \"histogram2dcontour\": [{\"colorbar\": {\"outlinewidth\": 0, \"ticks\": \"\"}, \"colorscale\": [[0.0, \"#0d0887\"], [0.1111111111111111, \"#46039f\"], [0.2222222222222222, \"#7201a8\"], [0.3333333333333333, \"#9c179e\"], [0.4444444444444444, \"#bd3786\"], [0.5555555555555556, \"#d8576b\"], [0.6666666666666666, \"#ed7953\"], [0.7777777777777778, \"#fb9f3a\"], [0.8888888888888888, \"#fdca26\"], [1.0, \"#f0f921\"]], \"type\": \"histogram2dcontour\"}], \"mesh3d\": [{\"colorbar\": {\"outlinewidth\": 0, \"ticks\": \"\"}, \"type\": \"mesh3d\"}], \"parcoords\": [{\"line\": {\"colorbar\": {\"outlinewidth\": 0, \"ticks\": \"\"}}, \"type\": \"parcoords\"}], \"scatter\": [{\"marker\": {\"colorbar\": {\"outlinewidth\": 0, \"ticks\": \"\"}}, \"type\": \"scatter\"}], \"scatter3d\": [{\"line\": {\"colorbar\": {\"outlinewidth\": 0, \"ticks\": \"\"}}, \"marker\": {\"colorbar\": {\"outlinewidth\": 0, \"ticks\": \"\"}}, \"type\": \"scatter3d\"}], \"scattercarpet\": [{\"marker\": {\"colorbar\": {\"outlinewidth\": 0, \"ticks\": \"\"}}, \"type\": \"scattercarpet\"}], \"scattergeo\": [{\"marker\": {\"colorbar\": {\"outlinewidth\": 0, \"ticks\": \"\"}}, \"type\": \"scattergeo\"}], \"scattergl\": [{\"marker\": {\"colorbar\": {\"outlinewidth\": 0, \"ticks\": \"\"}}, \"type\": \"scattergl\"}], \"scattermapbox\": [{\"marker\": {\"colorbar\": {\"outlinewidth\": 0, \"ticks\": \"\"}}, \"type\": \"scattermapbox\"}], \"scatterpolar\": [{\"marker\": {\"colorbar\": {\"outlinewidth\": 0, \"ticks\": \"\"}}, \"type\": \"scatterpolar\"}], \"scatterpolargl\": [{\"marker\": {\"colorbar\": {\"outlinewidth\": 0, \"ticks\": \"\"}}, \"type\": \"scatterpolargl\"}], \"scatterternary\": [{\"marker\": {\"colorbar\": {\"outlinewidth\": 0, \"ticks\": \"\"}}, \"type\": \"scatterternary\"}], \"surface\": [{\"colorbar\": {\"outlinewidth\": 0, \"ticks\": \"\"}, \"colorscale\": [[0.0, \"#0d0887\"], [0.1111111111111111, \"#46039f\"], [0.2222222222222222, \"#7201a8\"], [0.3333333333333333, \"#9c179e\"], [0.4444444444444444, \"#bd3786\"], [0.5555555555555556, \"#d8576b\"], [0.6666666666666666, \"#ed7953\"], [0.7777777777777778, \"#fb9f3a\"], [0.8888888888888888, \"#fdca26\"], [1.0, \"#f0f921\"]], \"type\": \"surface\"}], \"table\": [{\"cells\": {\"fill\": {\"color\": \"#EBF0F8\"}, \"line\": {\"color\": \"white\"}}, \"header\": {\"fill\": {\"color\": \"#C8D4E3\"}, \"line\": {\"color\": \"white\"}}, \"type\": \"table\"}]}, \"layout\": {\"annotationdefaults\": {\"arrowcolor\": \"#2a3f5f\", \"arrowhead\": 0, \"arrowwidth\": 1}, \"colorscale\": {\"diverging\": [[0, \"#8e0152\"], [0.1, \"#c51b7d\"], [0.2, \"#de77ae\"], [0.3, \"#f1b6da\"], [0.4, \"#fde0ef\"], [0.5, \"#f7f7f7\"], [0.6, \"#e6f5d0\"], [0.7, \"#b8e186\"], [0.8, \"#7fbc41\"], [0.9, \"#4d9221\"], [1, \"#276419\"]], \"sequential\": [[0.0, \"#0d0887\"], [0.1111111111111111, \"#46039f\"], [0.2222222222222222, \"#7201a8\"], [0.3333333333333333, \"#9c179e\"], [0.4444444444444444, \"#bd3786\"], [0.5555555555555556, \"#d8576b\"], [0.6666666666666666, \"#ed7953\"], [0.7777777777777778, \"#fb9f3a\"], [0.8888888888888888, \"#fdca26\"], [1.0, \"#f0f921\"]], \"sequentialminus\": [[0.0, \"#0d0887\"], [0.1111111111111111, \"#46039f\"], [0.2222222222222222, \"#7201a8\"], [0.3333333333333333, \"#9c179e\"], [0.4444444444444444, \"#bd3786\"], [0.5555555555555556, \"#d8576b\"], [0.6666666666666666, \"#ed7953\"], [0.7777777777777778, \"#fb9f3a\"], [0.8888888888888888, \"#fdca26\"], [1.0, \"#f0f921\"]]}, \"colorway\": [\"#636efa\", \"#EF553B\", \"#00cc96\", \"#ab63fa\", \"#FFA15A\", \"#19d3f3\", \"#FF6692\", \"#B6E880\", \"#FF97FF\", \"#FECB52\"], \"font\": {\"color\": \"#2a3f5f\"}, \"geo\": {\"bgcolor\": \"white\", \"lakecolor\": \"white\", \"landcolor\": \"#E5ECF6\", \"showlakes\": true, \"showland\": true, \"subunitcolor\": \"white\"}, \"hoverlabel\": {\"align\": \"left\"}, \"hovermode\": \"closest\", \"mapbox\": {\"style\": \"light\"}, \"paper_bgcolor\": \"white\", \"plot_bgcolor\": \"#E5ECF6\", \"polar\": {\"angularaxis\": {\"gridcolor\": \"white\", \"linecolor\": \"white\", \"ticks\": \"\"}, \"bgcolor\": \"#E5ECF6\", \"radialaxis\": {\"gridcolor\": \"white\", \"linecolor\": \"white\", \"ticks\": \"\"}}, \"scene\": {\"xaxis\": {\"backgroundcolor\": \"#E5ECF6\", \"gridcolor\": \"white\", \"gridwidth\": 2, \"linecolor\": \"white\", \"showbackground\": true, \"ticks\": \"\", \"zerolinecolor\": \"white\"}, \"yaxis\": {\"backgroundcolor\": \"#E5ECF6\", \"gridcolor\": \"white\", \"gridwidth\": 2, \"linecolor\": \"white\", \"showbackground\": true, \"ticks\": \"\", \"zerolinecolor\": \"white\"}, \"zaxis\": {\"backgroundcolor\": \"#E5ECF6\", \"gridcolor\": \"white\", \"gridwidth\": 2, \"linecolor\": \"white\", \"showbackground\": true, \"ticks\": \"\", \"zerolinecolor\": \"white\"}}, \"shapedefaults\": {\"line\": {\"color\": \"#2a3f5f\"}}, \"ternary\": {\"aaxis\": {\"gridcolor\": \"white\", \"linecolor\": \"white\", \"ticks\": \"\"}, \"baxis\": {\"gridcolor\": \"white\", \"linecolor\": \"white\", \"ticks\": \"\"}, \"bgcolor\": \"#E5ECF6\", \"caxis\": {\"gridcolor\": \"white\", \"linecolor\": \"white\", \"ticks\": \"\"}}, \"title\": {\"x\": 0.05}, \"xaxis\": {\"automargin\": true, \"gridcolor\": \"white\", \"linecolor\": \"white\", \"ticks\": \"\", \"zerolinecolor\": \"white\", \"zerolinewidth\": 2}, \"yaxis\": {\"automargin\": true, \"gridcolor\": \"white\", \"linecolor\": \"white\", \"ticks\": \"\", \"zerolinecolor\": \"white\", \"zerolinewidth\": 2}}}, \"yaxis\": {\"title\": {\"text\": \"\\u0421\\u0440\\u0435\\u0434\\u043d\\u044f\\u044f \\u0446\\u0435\\u043d\\u0430 \\u0430\\u0432\\u043e\\u043a\\u0430\\u0434\\u043e \\u0432 \\u0421\\u0428\\u0410 (\\u0432 \\u0434\\u043e\\u043b\\u043b\\u0430\\u0440\\u0430\\u0445)\"}}},\n",
       "                        {\"responsive\": true}\n",
       "                    ).then(function(){\n",
       "                            \n",
       "var gd = document.getElementById('309b3e93-8c2b-4d2d-996f-e1ad0b2c861b');\n",
       "var x = new MutationObserver(function (mutations, observer) {{\n",
       "        var display = window.getComputedStyle(gd).display;\n",
       "        if (!display || display === 'none') {{\n",
       "            console.log([gd, 'removed!']);\n",
       "            Plotly.purge(gd);\n",
       "            observer.disconnect();\n",
       "        }}\n",
       "}});\n",
       "\n",
       "// Listen for the removal of the full notebook cells\n",
       "var notebookContainer = gd.closest('#notebook-container');\n",
       "if (notebookContainer) {{\n",
       "    x.observe(notebookContainer, {childList: true});\n",
       "}}\n",
       "\n",
       "// Listen for the clearing of the current output cell\n",
       "var outputEl = gd.closest('.output');\n",
       "if (outputEl) {{\n",
       "    x.observe(outputEl, {childList: true});\n",
       "}}\n",
       "\n",
       "                        })\n",
       "                };\n",
       "                });\n",
       "            </script>\n",
       "        </div>"
      ]
     },
     "metadata": {},
     "output_type": "display_data"
    },
    {
     "name": "stdout",
     "output_type": "stream",
     "text": [
      "Для всех наблюдений:\n",
      "MAPE 3.881661637941361\n",
      "MAE 0.0541208253081531\n",
      "R^2 0.8404432159207601\n",
      "\n",
      "Для тестовых значений:\n",
      "MAPE 15.43841538365607\n",
      "MAE 0.20798286966136464\n",
      "R^2 -0.15787945551413216\n",
      "                            OLS Regression Results                            \n",
      "==============================================================================\n",
      "Dep. Variable:                      y   R-squared:                       0.504\n",
      "Model:                            OLS   Adj. R-squared:                  0.490\n",
      "Method:                 Least Squares   F-statistic:                     36.55\n",
      "Date:                Sun, 26 Apr 2020   Prob (F-statistic):           6.04e-07\n",
      "Time:                        11:15:05   Log-Likelihood:                 54.905\n",
      "No. Observations:                  38   AIC:                            -105.8\n",
      "Df Residuals:                      36   BIC:                            -102.5\n",
      "Df Model:                           1                                         \n",
      "Covariance Type:            nonrobust                                         \n",
      "==============================================================================\n",
      "                 coef    std err          t      P>|t|      [0.025      0.975]\n",
      "------------------------------------------------------------------------------\n",
      "const         -0.0103      0.010     -1.064      0.294      -0.030       0.009\n",
      "x1             0.8298      0.137      6.046      0.000       0.551       1.108\n",
      "==============================================================================\n",
      "Omnibus:                        1.123   Durbin-Watson:                   1.557\n",
      "Prob(Omnibus):                  0.570   Jarque-Bera (JB):                0.966\n",
      "Skew:                          -0.156   Prob(JB):                        0.617\n",
      "Kurtosis:                       2.284   Cond. No.                         14.4\n",
      "==============================================================================\n",
      "\n",
      "Warnings:\n",
      "[1] Standard Errors assume that the covariance matrix of the errors is correctly specified.\n",
      "                            OLS Regression Results                            \n",
      "==============================================================================\n",
      "Dep. Variable:                      y   R-squared:                       0.088\n",
      "Model:                            OLS   Adj. R-squared:                  0.062\n",
      "Method:                 Least Squares   F-statistic:                     3.362\n",
      "Date:                Sun, 26 Apr 2020   Prob (F-statistic):             0.0752\n",
      "Time:                        11:15:05   Log-Likelihood:                 42.225\n",
      "No. Observations:                  37   AIC:                            -80.45\n",
      "Df Residuals:                      35   BIC:                            -77.23\n",
      "Df Model:                           1                                         \n",
      "Covariance Type:            nonrobust                                         \n",
      "==============================================================================\n",
      "                 coef    std err          t      P>|t|      [0.025      0.975]\n",
      "------------------------------------------------------------------------------\n",
      "const         -0.0211      0.013     -1.594      0.120      -0.048       0.006\n",
      "x1             0.3837      0.209      1.833      0.075      -0.041       0.809\n",
      "==============================================================================\n",
      "Omnibus:                        4.401   Durbin-Watson:                   0.837\n",
      "Prob(Omnibus):                  0.111   Jarque-Bera (JB):                3.044\n",
      "Skew:                          -0.635   Prob(JB):                        0.218\n",
      "Kurtosis:                       3.600   Cond. No.                         16.0\n",
      "==============================================================================\n",
      "\n",
      "Warnings:\n",
      "[1] Standard Errors assume that the covariance matrix of the errors is correctly specified.\n",
      "                            OLS Regression Results                            \n",
      "==============================================================================\n",
      "Dep. Variable:                      y   R-squared:                       0.000\n",
      "Model:                            OLS   Adj. R-squared:                 -0.040\n",
      "Method:                 Least Squares   F-statistic:                  0.007477\n",
      "Date:                Sun, 26 Apr 2020   Prob (F-statistic):              0.932\n",
      "Time:                        11:15:05   Log-Likelihood:                 25.988\n",
      "No. Observations:                  27   AIC:                            -47.98\n",
      "Df Residuals:                      25   BIC:                            -45.38\n",
      "Df Model:                           1                                         \n",
      "Covariance Type:            nonrobust                                         \n",
      "==============================================================================\n",
      "                 coef    std err          t      P>|t|      [0.025      0.975]\n",
      "------------------------------------------------------------------------------\n",
      "const         -0.0311      0.019     -1.668      0.108      -0.070       0.007\n",
      "x1             0.0386      0.446      0.086      0.932      -0.881       0.958\n",
      "==============================================================================\n",
      "Omnibus:                        5.463   Durbin-Watson:                   0.532\n",
      "Prob(Omnibus):                  0.065   Jarque-Bera (JB):                3.886\n",
      "Skew:                          -0.901   Prob(JB):                        0.143\n",
      "Kurtosis:                       3.457   Cond. No.                         24.2\n",
      "==============================================================================\n",
      "\n",
      "Warnings:\n",
      "[1] Standard Errors assume that the covariance matrix of the errors is correctly specified.\n"
     ]
    },
    {
     "data": {
      "image/png": "[encoded data removed]",
      "text/plain": [
       "<Figure size 576x432 with 1 Axes>"
      ]
     },
     "metadata": {
      "needs_background": "light"
     },
     "output_type": "display_data"
    },
    {
     "data": {
      "image/png": "[encoded data removed]",
      "text/plain": [
       "<Figure size 576x432 with 1 Axes>"
      ]
     },
     "metadata": {
      "needs_background": "light"
     },
     "output_type": "display_data"
    },
    {
     "data": {
      "image/png": "[encoded data removed]",
      "text/plain": [
       "<Figure size 576x432 with 1 Axes>"
      ]
     },
     "metadata": {
      "needs_background": "light"
     },
     "output_type": "display_data"
    }
   ],
   "source": [
    "def show_forecast(cmp_df, num_predictions, num_values, axtitle):\n",
    "    # верхняя граница доверительного интервала прогноза\n",
    "    upper_bound = go.Scatter(\n",
    "        name='Upper Bound',\n",
    "        x=cmp_df.tail(num_predictions).index,\n",
    "        y=cmp_df.tail(num_predictions).yhat_upper,\n",
    "        mode='lines',\n",
    "        marker=dict(color=\"olive\"),\n",
    "        line=dict(width=0),\n",
    "        fillcolor='rgba(68, 68, 68, 0.3)',\n",
    "        fill='tonexty')\n",
    "\n",
    "    # прогноз\n",
    "    forecast = go.Scatter(\n",
    "        name='Prediction',\n",
    "        x=cmp_df.tail(num_predictions).index,\n",
    "        y=cmp_df.tail(num_predictions).yhat,\n",
    "        mode='lines',\n",
    "        line=dict(color='rgb(31, 119, 180)'),\n",
    "    )\n",
    "\n",
    "    # нижняя граница доверительного интервала\n",
    "    lower_bound = go.Scatter(\n",
    "        name='Lower Bound',\n",
    "        x=cmp_df.tail(num_predictions).index,\n",
    "        y=cmp_df.tail(num_predictions).yhat_lower,\n",
    "        marker=dict(color=\"olive\"),\n",
    "        line=dict(width=0),\n",
    "        mode='lines')\n",
    "\n",
    "    # фактические значения\n",
    "    fact = go.Scatter(\n",
    "        name='Fact',\n",
    "        x=cmp_df.tail(num_values).index,\n",
    "        y=cmp_df.tail(num_values).y,\n",
    "        marker=dict(color=\"red\"),\n",
    "        mode='lines',\n",
    "    )\n",
    "\n",
    "    data = [lower_bound, upper_bound, forecast, fact]\n",
    "\n",
    "    layout = go.Layout(\n",
    "        yaxis=dict(title=axtitle),\n",
    "        showlegend = False)\n",
    "\n",
    "    fig = go.Figure(data=data, layout=layout)\n",
    "    iplot(fig, show_link=False)\n",
    "\n",
    "df_vis = df[[COLUMN_NAME, 'Дата']].copy()\n",
    "df_vis['y'] = df_vis[COLUMN_NAME]\n",
    "df_vis['ds'] = df_vis['Дата']        \n",
    "cmp_df = fcst.set_index('ds')[['yhat', 'yhat_lower', 'yhat_upper']].join(df_vis.set_index('ds'))    \n",
    "show_forecast(cmp_df, 50, 50, COLUMN_NAME)\n",
    "    \n",
    "import numpy as np\n",
    "cmp_df['e'] = cmp_df['y'] - cmp_df['yhat']\n",
    "cmp_df['p'] = 100*cmp_df['e']/cmp_df['y'] \n",
    "print ('Для всех наблюдений:')\n",
    "print ('MAPE', np.mean(abs(cmp_df[:-8]['p'])))\n",
    "print ('MAE', np.mean(abs(cmp_df[:-8]['e'])))\n",
    "print ('R^2', (np.corrcoef(cmp_df[:-8]['y'], cmp_df[:-8]['yhat'])[0,1]))\n",
    "print ('\\nДля тестовых значений:')\n",
    "print ('MAPE', np.mean(abs(cmp_df[:-8][-4:]['p'])))\n",
    "print ('MAE', np.mean(abs(cmp_df[:-8][-4:]['e'])))\n",
    "print ('R^2', (np.corrcoef(cmp_df[:-8][-4:]['y'], cmp_df[:-8][-4:]['yhat'])[0,1]))\n",
    "custom_breusch_godfrey(cmp_df[:-8],1)\n",
    "custom_breusch_godfrey(cmp_df[:-8],2)\n",
    "custom_breusch_godfrey(cmp_df[:-8],12)"
   ]
  },
  {
   "cell_type": "code",
   "execution_count": 14,
   "metadata": {},
   "outputs": [
    {
     "name": "stdout",
     "output_type": "stream",
     "text": [
      "Results of Dickey-Fuller Test:\n",
      "Test Statistic                 -2.986463\n",
      "p-value                         0.036178\n",
      "#Lags Used                      1.000000\n",
      "Number of Observations Used    37.000000\n",
      "Critical Value (1%)            -3.620918\n",
      "Critical Value (5%)            -2.943539\n",
      "Critical Value (10%)           -2.610400\n",
      "dtype: float64\n"
     ]
    }
   ],
   "source": [
    "def adf_test(timeseries, lag):\n",
    "    print ('Results of Dickey-Fuller Test:')\n",
    "    dftest = adfuller(timeseries, maxlag=lag)\n",
    "    dfoutput = pd.Series(dftest[0:4], index=['Test Statistic','p-value','#Lags Used','Number of Observations Used'])\n",
    "    for key,value in dftest[4].items():\n",
    "       dfoutput['Critical Value (%s)'%key] = value\n",
    "    print (dfoutput)\n",
    "    \n",
    "\n",
    "train_df = df[COLUMN_NAME].copy()\n",
    "adf_test(train_df, 12)"
   ]
  },
  {
   "cell_type": "code",
   "execution_count": 15,
   "metadata": {},
   "outputs": [
    {
     "name": "stdout",
     "output_type": "stream",
     "text": [
      "Results of Dickey-Fuller Test:\n",
      "Test Statistic                 -4.381881\n",
      "p-value                         0.000320\n",
      "#Lags Used                      1.000000\n",
      "Number of Observations Used    36.000000\n",
      "Critical Value (1%)            -3.626652\n",
      "Critical Value (5%)            -2.945951\n",
      "Critical Value (10%)           -2.611671\n",
      "dtype: float64\n"
     ]
    },
    {
     "data": {
      "text/plain": [
       "<matplotlib.axes._subplots.AxesSubplot at 0x299ca38d4c8>"
      ]
     },
     "execution_count": 15,
     "metadata": {},
     "output_type": "execute_result"
    },
    {
     "data": {
      "image/png": "[encoded data removed]",
      "text/plain": [
       "<Figure size 432x288 with 1 Axes>"
      ]
     },
     "metadata": {
      "needs_background": "light"
     },
     "output_type": "display_data"
    }
   ],
   "source": [
    "train_df1diff = train_df.diff(1)\n",
    "train_df1diff = train_df1diff.dropna()\n",
    "adf_test(train_df1diff, 12)\n",
    "train_df1diff.plot()"
   ]
  },
  {
   "cell_type": "code",
   "execution_count": 16,
   "metadata": {},
   "outputs": [
    {
     "name": "stdout",
     "output_type": "stream",
     "text": [
      "Results of Dickey-Fuller Test:\n",
      "Test Statistic                 -5.122591\n",
      "p-value                         0.000013\n",
      "#Lags Used                      1.000000\n",
      "Number of Observations Used    24.000000\n",
      "Critical Value (1%)            -3.737709\n",
      "Critical Value (5%)            -2.992216\n",
      "Critical Value (10%)           -2.635747\n",
      "dtype: float64\n"
     ]
    },
    {
     "data": {
      "text/plain": [
       "<matplotlib.axes._subplots.AxesSubplot at 0x299c93a6608>"
      ]
     },
     "execution_count": 16,
     "metadata": {},
     "output_type": "execute_result"
    },
    {
     "data": {
      "image/png": "[encoded data removed]",
      "text/plain": [
       "<Figure size 432x288 with 1 Axes>"
      ]
     },
     "metadata": {
      "needs_background": "light"
     },
     "output_type": "display_data"
    }
   ],
   "source": [
    "train_df1diff = train_df1diff.diff(12)\n",
    "train_df1diff = train_df1diff.dropna()\n",
    "adf_test(train_df1diff, 1)\n",
    "train_df1diff.plot()"
   ]
  },
  {
   "cell_type": "code",
   "execution_count": 17,
   "metadata": {},
   "outputs": [
    {
     "data": {
      "image/png": "[encoded data removed]",
      "text/plain": [
       "<Figure size 432x288 with 1 Axes>"
      ]
     },
     "metadata": {
      "needs_background": "light"
     },
     "output_type": "display_data"
    },
    {
     "data": {
      "image/png": "[encoded data removed]",
      "text/plain": [
       "<Figure size 432x288 with 1 Axes>"
      ]
     },
     "metadata": {
      "needs_background": "light"
     },
     "output_type": "display_data"
    }
   ],
   "source": [
    "fig1 = sm.graphics.tsa.plot_acf(train_df1diff.values.squeeze(), lags=13)\n",
    "fig2 = sm.graphics.tsa.plot_pacf(train_df1diff, lags=13)"
   ]
  },
  {
   "cell_type": "code",
   "execution_count": 18,
   "metadata": {
    "scrolled": false
   },
   "outputs": [
    {
     "name": "stderr",
     "output_type": "stream",
     "text": [
      "D:\\ImportantThings\\lib\\site-packages\\statsmodels\\base\\model.py:512: ConvergenceWarning:\n",
      "\n",
      "Maximum Likelihood optimization failed to converge. Check mle_retvals\n",
      "\n"
     ]
    },
    {
     "name": "stdout",
     "output_type": "stream",
     "text": [
      "                                      Statespace Model Results                                     \n",
      "===================================================================================================\n",
      "Dep. Variable:     Средняя цена авокадо в США (в долларах)   No. Observations:                   39\n",
      "Model:                      SARIMAX(2, 1, 2)x(1, 0, 1, 12)   Log Likelihood                  44.401\n",
      "Date:                                     Sun, 26 Apr 2020   AIC                            -74.802\n",
      "Time:                                             11:15:07   BIC                            -63.339\n",
      "Sample:                                                  0   HQIC                           -70.724\n",
      "                                                      - 39                                         \n",
      "Covariance Type:                                       opg                                         \n",
      "==============================================================================\n",
      "                 coef    std err          z      P>|z|      [0.025      0.975]\n",
      "------------------------------------------------------------------------------\n",
      "ar.L1          0.8875      0.462      1.923      0.054      -0.017       1.792\n",
      "ar.L2         -0.1635      0.435     -0.375      0.707      -1.017       0.690\n",
      "ma.L1         -0.6697      1.178     -0.569      0.570      -2.978       1.639\n",
      "ma.L2         -0.3244      0.565     -0.574      0.566      -1.433       0.784\n",
      "ar.S.L12       0.9358      3.334      0.281      0.779      -5.599       7.471\n",
      "ma.S.L12      -0.8230      5.114     -0.161      0.872     -10.846       9.200\n",
      "sigma2         0.0051      0.007      0.697      0.486      -0.009       0.019\n",
      "===================================================================================\n",
      "Ljung-Box (Q):                         nan   Jarque-Bera (JB):                 1.11\n",
      "Prob(Q):                               nan   Prob(JB):                         0.57\n",
      "Heteroskedasticity (H):               6.08   Skew:                             0.33\n",
      "Prob(H) (two-sided):                  0.00   Kurtosis:                         3.51\n",
      "===================================================================================\n",
      "\n",
      "Warnings:\n",
      "[1] Covariance matrix calculated using the outer product of gradients (complex-step).\n"
     ]
    }
   ],
   "source": [
    "model = SARIMAX(train_df, order=(2,1,2), seasonal_order=(1,0,1,12)).fit()\n",
    "print(model.summary())"
   ]
  },
  {
   "cell_type": "code",
   "execution_count": 19,
   "metadata": {},
   "outputs": [
    {
     "data": {
      "text/plain": [
       "<matplotlib.axes._subplots.AxesSubplot at 0x299ca4f0e08>"
      ]
     },
     "execution_count": 19,
     "metadata": {},
     "output_type": "execute_result"
    },
    {
     "data": {
      "image/png": "[encoded data removed]",
      "text/plain": [
       "<Figure size 864x432 with 1 Axes>"
      ]
     },
     "metadata": {
      "needs_background": "light"
     },
     "output_type": "display_data"
    }
   ],
   "source": [
    "pred = model.predict(1, 45)\n",
    "df[COLUMN_NAME].plot(figsize=(12,6))\n",
    "pred.plot(style='r--')"
   ]
  },
  {
   "cell_type": "code",
   "execution_count": 20,
   "metadata": {},
   "outputs": [
    {
     "name": "stdout",
     "output_type": "stream",
     "text": [
      "MAPE 3.9880852769365776\n",
      "MAE 0.05681382688813986\n",
      "R^2 0.8653533439608154\n"
     ]
    }
   ],
   "source": [
    "cmp_df2 = pd.DataFrame()\n",
    "cmp_df2['yhat'] = pred[:-7]\n",
    "cmp_df2['y'] = df[COLUMN_NAME].copy()\n",
    "cmp_df2['e'] = cmp_df2['y'] - cmp_df2['yhat']\n",
    "cmp_df2['p'] = 100*cmp_df2['e']/cmp_df2['y']    \n",
    "print ('MAPE', np.mean(abs(cmp_df2['p'])))\n",
    "print ('MAE', np.mean(abs(cmp_df2['e'])))\n",
    "print ('R^2', (np.corrcoef(cmp_df2['y'], cmp_df2['yhat'])[0,1]))"
   ]
  },
  {
   "cell_type": "code",
   "execution_count": 21,
   "metadata": {
    "scrolled": false
   },
   "outputs": [
    {
     "name": "stdout",
     "output_type": "stream",
     "text": [
      "                            OLS Regression Results                            \n",
      "==============================================================================\n",
      "Dep. Variable:                      y   R-squared:                       0.000\n",
      "Model:                            OLS   Adj. R-squared:                 -0.029\n",
      "Method:                 Least Squares   F-statistic:                 0.0002013\n",
      "Date:                Sun, 26 Apr 2020   Prob (F-statistic):              0.989\n",
      "Time:                        11:15:07   Log-Likelihood:                 43.732\n",
      "No. Observations:                  37   AIC:                            -83.46\n",
      "Df Residuals:                      35   BIC:                            -80.24\n",
      "Df Model:                           1                                         \n",
      "Covariance Type:            nonrobust                                         \n",
      "==============================================================================\n",
      "                 coef    std err          t      P>|t|      [0.025      0.975]\n",
      "------------------------------------------------------------------------------\n",
      "const          0.0088      0.013      0.695      0.491      -0.017       0.034\n",
      "x1             0.0024      0.168      0.014      0.989      -0.339       0.344\n",
      "==============================================================================\n",
      "Omnibus:                        1.585   Durbin-Watson:                   1.976\n",
      "Prob(Omnibus):                  0.453   Jarque-Bera (JB):                0.717\n",
      "Skew:                           0.278   Prob(JB):                        0.699\n",
      "Kurtosis:                       3.395   Cond. No.                         13.4\n",
      "==============================================================================\n",
      "\n",
      "Warnings:\n",
      "[1] Standard Errors assume that the covariance matrix of the errors is correctly specified.\n",
      "                            OLS Regression Results                            \n",
      "==============================================================================\n",
      "Dep. Variable:                      y   R-squared:                       0.001\n",
      "Model:                            OLS   Adj. R-squared:                 -0.028\n",
      "Method:                 Least Squares   F-statistic:                   0.04865\n",
      "Date:                Sun, 26 Apr 2020   Prob (F-statistic):              0.827\n",
      "Time:                        11:15:07   Log-Likelihood:                 42.205\n",
      "No. Observations:                  36   AIC:                            -80.41\n",
      "Df Residuals:                      34   BIC:                            -77.24\n",
      "Df Model:                           1                                         \n",
      "Covariance Type:            nonrobust                                         \n",
      "==============================================================================\n",
      "                 coef    std err          t      P>|t|      [0.025      0.975]\n",
      "------------------------------------------------------------------------------\n",
      "const          0.0081      0.013      0.628      0.534      -0.018       0.034\n",
      "x1            -0.0381      0.173     -0.221      0.827      -0.389       0.313\n",
      "==============================================================================\n",
      "Omnibus:                        1.784   Durbin-Watson:                   1.981\n",
      "Prob(Omnibus):                  0.410   Jarque-Bera (JB):                0.921\n",
      "Skew:                           0.358   Prob(JB):                        0.631\n",
      "Kurtosis:                       3.318   Cond. No.                         13.5\n",
      "==============================================================================\n",
      "\n",
      "Warnings:\n",
      "[1] Standard Errors assume that the covariance matrix of the errors is correctly specified.\n",
      "                            OLS Regression Results                            \n",
      "==============================================================================\n",
      "Dep. Variable:                      y   R-squared:                       0.002\n",
      "Model:                            OLS   Adj. R-squared:                 -0.039\n",
      "Method:                 Least Squares   F-statistic:                   0.05178\n",
      "Date:                Sun, 26 Apr 2020   Prob (F-statistic):              0.822\n",
      "Time:                        11:15:07   Log-Likelihood:                 27.686\n",
      "No. Observations:                  26   AIC:                            -51.37\n",
      "Df Residuals:                      24   BIC:                            -48.86\n",
      "Df Model:                           1                                         \n",
      "Covariance Type:            nonrobust                                         \n",
      "==============================================================================\n",
      "                 coef    std err          t      P>|t|      [0.025      0.975]\n",
      "------------------------------------------------------------------------------\n",
      "const          0.0151      0.017      0.887      0.384      -0.020       0.050\n",
      "x1            -0.0544      0.239     -0.228      0.822      -0.547       0.439\n",
      "==============================================================================\n",
      "Omnibus:                        0.154   Durbin-Watson:                   1.981\n",
      "Prob(Omnibus):                  0.926   Jarque-Bera (JB):                0.031\n",
      "Skew:                           0.055   Prob(JB):                        0.984\n",
      "Kurtosis:                       2.870   Cond. No.                         14.0\n",
      "==============================================================================\n",
      "\n",
      "Warnings:\n",
      "[1] Standard Errors assume that the covariance matrix of the errors is correctly specified.\n"
     ]
    },
    {
     "data": {
      "image/png": "[encoded data removed]",
      "text/plain": [
       "<Figure size 576x432 with 1 Axes>"
      ]
     },
     "metadata": {
      "needs_background": "light"
     },
     "output_type": "display_data"
    },
    {
     "data": {
      "image/png": "[encoded data removed]",
      "text/plain": [
       "<Figure size 576x432 with 1 Axes>"
      ]
     },
     "metadata": {
      "needs_background": "light"
     },
     "output_type": "display_data"
    },
    {
     "data": {
      "image/png": "[encoded data removed]",
      "text/plain": [
       "<Figure size 576x432 with 1 Axes>"
      ]
     },
     "metadata": {
      "needs_background": "light"
     },
     "output_type": "display_data"
    }
   ],
   "source": [
    "custom_breusch_godfrey(cmp_df2,1)\n",
    "custom_breusch_godfrey(cmp_df2,2)\n",
    "custom_breusch_godfrey(cmp_df2,12)"
   ]
  },
  {
   "cell_type": "code",
   "execution_count": null,
   "metadata": {},
   "outputs": [],
   "source": []
  },
  {
   "cell_type": "code",
   "execution_count": null,
   "metadata": {},
   "outputs": [],
   "source": []
  }
 ],
 "metadata": {
  "kernelspec": {
   "display_name": "Python 3",
   "language": "python",
   "name": "python3"
  },
  "language_info": {
   "codemirror_mode": {
    "name": "ipython",
    "version": 3
   },
   "file_extension": ".py",
   "mimetype": "text/x-python",
   "name": "python",
   "nbconvert_exporter": "python",
   "pygments_lexer": "ipython3",
   "version": "3.7.4"
  },
  "widgets": {
   "application/vnd.jupyter.widget-state+json": {
    "state": {},
    "version_major": 2,
    "version_minor": 0
   }
  }
 },
 "nbformat": 4,
 "nbformat_minor": 4
}
