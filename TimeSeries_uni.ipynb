{
 "cells": [
  {
   "cell_type": "code",
   "execution_count": 59,
   "metadata": {},
   "outputs": [],
   "source": [
    "import pandas as pd\n",
    "import numpy as np\n",
    "import matplotlib.pyplot as plt\n",
    "from plotly.offline import iplot\n",
    "import plotly.graph_objects as go\n",
    "import scipy.cluster.hierarchy as sch\n",
    "import statsmodels.api as sm\n",
    "from pylab import rcParams\n",
    "from statsmodels.tsa.statespace.sarimax import SARIMAX\n",
    "from statsmodels.tsa.api import VAR\n",
    "from statsmodels.tsa.stattools import adfuller\n",
    "from statsmodels.stats.diagnostic import acorr_breusch_godfrey\n",
    "from fbprophet import Prophet"
   ]
  },
  {
   "cell_type": "code",
   "execution_count": 60,
   "metadata": {
    "scrolled": true
   },
   "outputs": [
    {
     "data": {
      "text/html": [
       "<div>\n",
       "<style scoped>\n",
       "    .dataframe tbody tr th:only-of-type {\n",
       "        vertical-align: middle;\n",
       "    }\n",
       "\n",
       "    .dataframe tbody tr th {\n",
       "        vertical-align: top;\n",
       "    }\n",
       "\n",
       "    .dataframe thead th {\n",
       "        text-align: right;\n",
       "    }\n",
       "</style>\n",
       "<table border=\"1\" class=\"dataframe\">\n",
       "  <thead>\n",
       "    <tr style=\"text-align: right;\">\n",
       "      <th></th>\n",
       "      <th>Дата</th>\n",
       "      <th>Средняя цена авокадо в США (в долларах)</th>\n",
       "      <th>Общее количество проданных авокадо (в фунтах)</th>\n",
       "      <th>Количество запросов \"Здоровая еда\"</th>\n",
       "      <th>Количество запросов по слову \"Авокадо\"</th>\n",
       "      <th>Температура (отклонение от средней)</th>\n",
       "    </tr>\n",
       "  </thead>\n",
       "  <tbody>\n",
       "    <tr>\n",
       "      <td>0</td>\n",
       "      <td>31.01.2015</td>\n",
       "      <td>1.365046</td>\n",
       "      <td>318085209.6</td>\n",
       "      <td>70.50</td>\n",
       "      <td>67.00</td>\n",
       "      <td>0.90</td>\n",
       "    </tr>\n",
       "    <tr>\n",
       "      <td>1</td>\n",
       "      <td>28.02.2015</td>\n",
       "      <td>1.326944</td>\n",
       "      <td>362637599.2</td>\n",
       "      <td>63.25</td>\n",
       "      <td>61.75</td>\n",
       "      <td>0.63</td>\n",
       "    </tr>\n",
       "    <tr>\n",
       "      <td>2</td>\n",
       "      <td>31.03.2015</td>\n",
       "      <td>1.361981</td>\n",
       "      <td>418583069.8</td>\n",
       "      <td>63.40</td>\n",
       "      <td>60.20</td>\n",
       "      <td>0.67</td>\n",
       "    </tr>\n",
       "    <tr>\n",
       "      <td>3</td>\n",
       "      <td>30.04.2015</td>\n",
       "      <td>1.383449</td>\n",
       "      <td>344144395.2</td>\n",
       "      <td>63.75</td>\n",
       "      <td>62.00</td>\n",
       "      <td>0.97</td>\n",
       "    </tr>\n",
       "    <tr>\n",
       "      <td>4</td>\n",
       "      <td>31.05.2015</td>\n",
       "      <td>1.344685</td>\n",
       "      <td>483784044.8</td>\n",
       "      <td>62.40</td>\n",
       "      <td>65.60</td>\n",
       "      <td>0.80</td>\n",
       "    </tr>\n",
       "    <tr>\n",
       "      <td>5</td>\n",
       "      <td>30.06.2015</td>\n",
       "      <td>1.399074</td>\n",
       "      <td>381826743.7</td>\n",
       "      <td>58.00</td>\n",
       "      <td>65.50</td>\n",
       "      <td>0.82</td>\n",
       "    </tr>\n",
       "    <tr>\n",
       "      <td>6</td>\n",
       "      <td>31.07.2015</td>\n",
       "      <td>1.409444</td>\n",
       "      <td>356701872.6</td>\n",
       "      <td>60.50</td>\n",
       "      <td>65.75</td>\n",
       "      <td>0.88</td>\n",
       "    </tr>\n",
       "    <tr>\n",
       "      <td>7</td>\n",
       "      <td>31.08.2015</td>\n",
       "      <td>1.444481</td>\n",
       "      <td>419244814.8</td>\n",
       "      <td>55.40</td>\n",
       "      <td>61.40</td>\n",
       "      <td>1.22</td>\n",
       "    </tr>\n",
       "    <tr>\n",
       "      <td>8</td>\n",
       "      <td>30.09.2015</td>\n",
       "      <td>1.449144</td>\n",
       "      <td>329218833.1</td>\n",
       "      <td>57.75</td>\n",
       "      <td>50.75</td>\n",
       "      <td>0.99</td>\n",
       "    </tr>\n",
       "    <tr>\n",
       "      <td>9</td>\n",
       "      <td>31.10.2015</td>\n",
       "      <td>1.391968</td>\n",
       "      <td>305776111.0</td>\n",
       "      <td>59.00</td>\n",
       "      <td>49.50</td>\n",
       "      <td>1.12</td>\n",
       "    </tr>\n",
       "    <tr>\n",
       "      <td>10</td>\n",
       "      <td>30.11.2015</td>\n",
       "      <td>1.330611</td>\n",
       "      <td>369440036.4</td>\n",
       "      <td>53.60</td>\n",
       "      <td>45.40</td>\n",
       "      <td>1.50</td>\n",
       "    </tr>\n",
       "    <tr>\n",
       "      <td>11</td>\n",
       "      <td>31.12.2015</td>\n",
       "      <td>1.305244</td>\n",
       "      <td>296025931.9</td>\n",
       "      <td>49.75</td>\n",
       "      <td>50.50</td>\n",
       "      <td>1.43</td>\n",
       "    </tr>\n",
       "    <tr>\n",
       "      <td>12</td>\n",
       "      <td>31.01.2016</td>\n",
       "      <td>1.240185</td>\n",
       "      <td>475405765.6</td>\n",
       "      <td>73.80</td>\n",
       "      <td>74.80</td>\n",
       "      <td>0.78</td>\n",
       "    </tr>\n",
       "    <tr>\n",
       "      <td>13</td>\n",
       "      <td>29.02.2016</td>\n",
       "      <td>1.237106</td>\n",
       "      <td>428645802.0</td>\n",
       "      <td>70.75</td>\n",
       "      <td>75.00</td>\n",
       "      <td>0.93</td>\n",
       "    </tr>\n",
       "    <tr>\n",
       "      <td>14</td>\n",
       "      <td>31.03.2016</td>\n",
       "      <td>1.224213</td>\n",
       "      <td>391212408.3</td>\n",
       "      <td>65.75</td>\n",
       "      <td>76.00</td>\n",
       "      <td>0.48</td>\n",
       "    </tr>\n",
       "    <tr>\n",
       "      <td>15</td>\n",
       "      <td>30.04.2016</td>\n",
       "      <td>1.205023</td>\n",
       "      <td>401832751.8</td>\n",
       "      <td>70.75</td>\n",
       "      <td>80.25</td>\n",
       "      <td>0.69</td>\n",
       "    </tr>\n",
       "    <tr>\n",
       "      <td>16</td>\n",
       "      <td>31.05.2016</td>\n",
       "      <td>1.199722</td>\n",
       "      <td>561230530.6</td>\n",
       "      <td>65.60</td>\n",
       "      <td>83.80</td>\n",
       "      <td>0.85</td>\n",
       "    </tr>\n",
       "    <tr>\n",
       "      <td>17</td>\n",
       "      <td>30.06.2016</td>\n",
       "      <td>1.283056</td>\n",
       "      <td>410328154.1</td>\n",
       "      <td>62.00</td>\n",
       "      <td>73.50</td>\n",
       "      <td>0.58</td>\n",
       "    </tr>\n",
       "    <tr>\n",
       "      <td>18</td>\n",
       "      <td>31.07.2016</td>\n",
       "      <td>1.401333</td>\n",
       "      <td>467275344.2</td>\n",
       "      <td>59.60</td>\n",
       "      <td>69.00</td>\n",
       "      <td>0.50</td>\n",
       "    </tr>\n",
       "    <tr>\n",
       "      <td>19</td>\n",
       "      <td>31.08.2016</td>\n",
       "      <td>1.411111</td>\n",
       "      <td>370796967.0</td>\n",
       "      <td>57.75</td>\n",
       "      <td>60.75</td>\n",
       "      <td>0.58</td>\n",
       "    </tr>\n",
       "    <tr>\n",
       "      <td>20</td>\n",
       "      <td>30.09.2016</td>\n",
       "      <td>1.427870</td>\n",
       "      <td>362303275.5</td>\n",
       "      <td>59.75</td>\n",
       "      <td>55.50</td>\n",
       "      <td>0.67</td>\n",
       "    </tr>\n",
       "    <tr>\n",
       "      <td>21</td>\n",
       "      <td>31.10.2016</td>\n",
       "      <td>1.557093</td>\n",
       "      <td>360201804.3</td>\n",
       "      <td>60.60</td>\n",
       "      <td>48.80</td>\n",
       "      <td>0.99</td>\n",
       "    </tr>\n",
       "    <tr>\n",
       "      <td>22</td>\n",
       "      <td>30.11.2016</td>\n",
       "      <td>1.550023</td>\n",
       "      <td>260209336.7</td>\n",
       "      <td>56.00</td>\n",
       "      <td>43.00</td>\n",
       "      <td>0.91</td>\n",
       "    </tr>\n",
       "    <tr>\n",
       "      <td>23</td>\n",
       "      <td>31.12.2016</td>\n",
       "      <td>1.315995</td>\n",
       "      <td>331447751.9</td>\n",
       "      <td>54.50</td>\n",
       "      <td>48.75</td>\n",
       "      <td>0.84</td>\n",
       "    </tr>\n",
       "    <tr>\n",
       "      <td>24</td>\n",
       "      <td>31.01.2017</td>\n",
       "      <td>1.277500</td>\n",
       "      <td>533333033.4</td>\n",
       "      <td>86.80</td>\n",
       "      <td>77.20</td>\n",
       "      <td>0.69</td>\n",
       "    </tr>\n",
       "    <tr>\n",
       "      <td>25</td>\n",
       "      <td>28.02.2017</td>\n",
       "      <td>1.214792</td>\n",
       "      <td>471467199.8</td>\n",
       "      <td>78.50</td>\n",
       "      <td>72.25</td>\n",
       "      <td>0.60</td>\n",
       "    </tr>\n",
       "    <tr>\n",
       "      <td>26</td>\n",
       "      <td>31.03.2017</td>\n",
       "      <td>1.398935</td>\n",
       "      <td>358903381.7</td>\n",
       "      <td>81.00</td>\n",
       "      <td>69.00</td>\n",
       "      <td>0.98</td>\n",
       "    </tr>\n",
       "    <tr>\n",
       "      <td>27</td>\n",
       "      <td>30.04.2017</td>\n",
       "      <td>1.502611</td>\n",
       "      <td>489814529.5</td>\n",
       "      <td>78.00</td>\n",
       "      <td>73.00</td>\n",
       "      <td>0.39</td>\n",
       "    </tr>\n",
       "    <tr>\n",
       "      <td>28</td>\n",
       "      <td>31.05.2017</td>\n",
       "      <td>1.532593</td>\n",
       "      <td>425730541.6</td>\n",
       "      <td>74.50</td>\n",
       "      <td>77.50</td>\n",
       "      <td>0.14</td>\n",
       "    </tr>\n",
       "    <tr>\n",
       "      <td>29</td>\n",
       "      <td>30.06.2017</td>\n",
       "      <td>1.545395</td>\n",
       "      <td>410410651.0</td>\n",
       "      <td>75.50</td>\n",
       "      <td>75.25</td>\n",
       "      <td>0.35</td>\n",
       "    </tr>\n",
       "    <tr>\n",
       "      <td>30</td>\n",
       "      <td>31.07.2017</td>\n",
       "      <td>1.564926</td>\n",
       "      <td>474903710.4</td>\n",
       "      <td>77.60</td>\n",
       "      <td>76.60</td>\n",
       "      <td>0.35</td>\n",
       "    </tr>\n",
       "    <tr>\n",
       "      <td>31</td>\n",
       "      <td>31.08.2017</td>\n",
       "      <td>1.698958</td>\n",
       "      <td>338332990.2</td>\n",
       "      <td>70.50</td>\n",
       "      <td>68.50</td>\n",
       "      <td>0.68</td>\n",
       "    </tr>\n",
       "    <tr>\n",
       "      <td>32</td>\n",
       "      <td>30.09.2017</td>\n",
       "      <td>1.840949</td>\n",
       "      <td>284779536.3</td>\n",
       "      <td>68.25</td>\n",
       "      <td>57.00</td>\n",
       "      <td>0.45</td>\n",
       "    </tr>\n",
       "    <tr>\n",
       "      <td>33</td>\n",
       "      <td>31.10.2017</td>\n",
       "      <td>1.752444</td>\n",
       "      <td>362777956.7</td>\n",
       "      <td>70.20</td>\n",
       "      <td>53.00</td>\n",
       "      <td>0.69</td>\n",
       "    </tr>\n",
       "    <tr>\n",
       "      <td>34</td>\n",
       "      <td>30.11.2017</td>\n",
       "      <td>1.517292</td>\n",
       "      <td>324519308.5</td>\n",
       "      <td>63.75</td>\n",
       "      <td>52.00</td>\n",
       "      <td>1.06</td>\n",
       "    </tr>\n",
       "    <tr>\n",
       "      <td>35</td>\n",
       "      <td>31.12.2017</td>\n",
       "      <td>1.363852</td>\n",
       "      <td>459332860.0</td>\n",
       "      <td>64.20</td>\n",
       "      <td>61.40</td>\n",
       "      <td>0.78</td>\n",
       "    </tr>\n",
       "    <tr>\n",
       "      <td>36</td>\n",
       "      <td>31.01.2018</td>\n",
       "      <td>1.387431</td>\n",
       "      <td>429707083.6</td>\n",
       "      <td>91.75</td>\n",
       "      <td>82.50</td>\n",
       "      <td>0.64</td>\n",
       "    </tr>\n",
       "    <tr>\n",
       "      <td>37</td>\n",
       "      <td>28.02.2018</td>\n",
       "      <td>1.318704</td>\n",
       "      <td>497778196.4</td>\n",
       "      <td>87.50</td>\n",
       "      <td>82.00</td>\n",
       "      <td>0.88</td>\n",
       "    </tr>\n",
       "    <tr>\n",
       "      <td>38</td>\n",
       "      <td>31.03.2018</td>\n",
       "      <td>1.336458</td>\n",
       "      <td>455253060.2</td>\n",
       "      <td>86.75</td>\n",
       "      <td>81.25</td>\n",
       "      <td>0.92</td>\n",
       "    </tr>\n",
       "  </tbody>\n",
       "</table>\n",
       "</div>"
      ],
      "text/plain": [
       "          Дата  Средняя цена авокадо в США (в долларах)  \\\n",
       "0   31.01.2015                                 1.365046   \n",
       "1   28.02.2015                                 1.326944   \n",
       "2   31.03.2015                                 1.361981   \n",
       "3   30.04.2015                                 1.383449   \n",
       "4   31.05.2015                                 1.344685   \n",
       "5   30.06.2015                                 1.399074   \n",
       "6   31.07.2015                                 1.409444   \n",
       "7   31.08.2015                                 1.444481   \n",
       "8   30.09.2015                                 1.449144   \n",
       "9   31.10.2015                                 1.391968   \n",
       "10  30.11.2015                                 1.330611   \n",
       "11  31.12.2015                                 1.305244   \n",
       "12  31.01.2016                                 1.240185   \n",
       "13  29.02.2016                                 1.237106   \n",
       "14  31.03.2016                                 1.224213   \n",
       "15  30.04.2016                                 1.205023   \n",
       "16  31.05.2016                                 1.199722   \n",
       "17  30.06.2016                                 1.283056   \n",
       "18  31.07.2016                                 1.401333   \n",
       "19  31.08.2016                                 1.411111   \n",
       "20  30.09.2016                                 1.427870   \n",
       "21  31.10.2016                                 1.557093   \n",
       "22  30.11.2016                                 1.550023   \n",
       "23  31.12.2016                                 1.315995   \n",
       "24  31.01.2017                                 1.277500   \n",
       "25  28.02.2017                                 1.214792   \n",
       "26  31.03.2017                                 1.398935   \n",
       "27  30.04.2017                                 1.502611   \n",
       "28  31.05.2017                                 1.532593   \n",
       "29  30.06.2017                                 1.545395   \n",
       "30  31.07.2017                                 1.564926   \n",
       "31  31.08.2017                                 1.698958   \n",
       "32  30.09.2017                                 1.840949   \n",
       "33  31.10.2017                                 1.752444   \n",
       "34  30.11.2017                                 1.517292   \n",
       "35  31.12.2017                                 1.363852   \n",
       "36  31.01.2018                                 1.387431   \n",
       "37  28.02.2018                                 1.318704   \n",
       "38  31.03.2018                                 1.336458   \n",
       "\n",
       "    Общее количество проданных авокадо (в фунтах)  \\\n",
       "0                                     318085209.6   \n",
       "1                                     362637599.2   \n",
       "2                                     418583069.8   \n",
       "3                                     344144395.2   \n",
       "4                                     483784044.8   \n",
       "5                                     381826743.7   \n",
       "6                                     356701872.6   \n",
       "7                                     419244814.8   \n",
       "8                                     329218833.1   \n",
       "9                                     305776111.0   \n",
       "10                                    369440036.4   \n",
       "11                                    296025931.9   \n",
       "12                                    475405765.6   \n",
       "13                                    428645802.0   \n",
       "14                                    391212408.3   \n",
       "15                                    401832751.8   \n",
       "16                                    561230530.6   \n",
       "17                                    410328154.1   \n",
       "18                                    467275344.2   \n",
       "19                                    370796967.0   \n",
       "20                                    362303275.5   \n",
       "21                                    360201804.3   \n",
       "22                                    260209336.7   \n",
       "23                                    331447751.9   \n",
       "24                                    533333033.4   \n",
       "25                                    471467199.8   \n",
       "26                                    358903381.7   \n",
       "27                                    489814529.5   \n",
       "28                                    425730541.6   \n",
       "29                                    410410651.0   \n",
       "30                                    474903710.4   \n",
       "31                                    338332990.2   \n",
       "32                                    284779536.3   \n",
       "33                                    362777956.7   \n",
       "34                                    324519308.5   \n",
       "35                                    459332860.0   \n",
       "36                                    429707083.6   \n",
       "37                                    497778196.4   \n",
       "38                                    455253060.2   \n",
       "\n",
       "    Количество запросов \"Здоровая еда\"  \\\n",
       "0                                70.50   \n",
       "1                                63.25   \n",
       "2                                63.40   \n",
       "3                                63.75   \n",
       "4                                62.40   \n",
       "5                                58.00   \n",
       "6                                60.50   \n",
       "7                                55.40   \n",
       "8                                57.75   \n",
       "9                                59.00   \n",
       "10                               53.60   \n",
       "11                               49.75   \n",
       "12                               73.80   \n",
       "13                               70.75   \n",
       "14                               65.75   \n",
       "15                               70.75   \n",
       "16                               65.60   \n",
       "17                               62.00   \n",
       "18                               59.60   \n",
       "19                               57.75   \n",
       "20                               59.75   \n",
       "21                               60.60   \n",
       "22                               56.00   \n",
       "23                               54.50   \n",
       "24                               86.80   \n",
       "25                               78.50   \n",
       "26                               81.00   \n",
       "27                               78.00   \n",
       "28                               74.50   \n",
       "29                               75.50   \n",
       "30                               77.60   \n",
       "31                               70.50   \n",
       "32                               68.25   \n",
       "33                               70.20   \n",
       "34                               63.75   \n",
       "35                               64.20   \n",
       "36                               91.75   \n",
       "37                               87.50   \n",
       "38                               86.75   \n",
       "\n",
       "    Количество запросов по слову \"Авокадо\"  \\\n",
       "0                                    67.00   \n",
       "1                                    61.75   \n",
       "2                                    60.20   \n",
       "3                                    62.00   \n",
       "4                                    65.60   \n",
       "5                                    65.50   \n",
       "6                                    65.75   \n",
       "7                                    61.40   \n",
       "8                                    50.75   \n",
       "9                                    49.50   \n",
       "10                                   45.40   \n",
       "11                                   50.50   \n",
       "12                                   74.80   \n",
       "13                                   75.00   \n",
       "14                                   76.00   \n",
       "15                                   80.25   \n",
       "16                                   83.80   \n",
       "17                                   73.50   \n",
       "18                                   69.00   \n",
       "19                                   60.75   \n",
       "20                                   55.50   \n",
       "21                                   48.80   \n",
       "22                                   43.00   \n",
       "23                                   48.75   \n",
       "24                                   77.20   \n",
       "25                                   72.25   \n",
       "26                                   69.00   \n",
       "27                                   73.00   \n",
       "28                                   77.50   \n",
       "29                                   75.25   \n",
       "30                                   76.60   \n",
       "31                                   68.50   \n",
       "32                                   57.00   \n",
       "33                                   53.00   \n",
       "34                                   52.00   \n",
       "35                                   61.40   \n",
       "36                                   82.50   \n",
       "37                                   82.00   \n",
       "38                                   81.25   \n",
       "\n",
       "    Температура (отклонение от средней)  \n",
       "0                                  0.90  \n",
       "1                                  0.63  \n",
       "2                                  0.67  \n",
       "3                                  0.97  \n",
       "4                                  0.80  \n",
       "5                                  0.82  \n",
       "6                                  0.88  \n",
       "7                                  1.22  \n",
       "8                                  0.99  \n",
       "9                                  1.12  \n",
       "10                                 1.50  \n",
       "11                                 1.43  \n",
       "12                                 0.78  \n",
       "13                                 0.93  \n",
       "14                                 0.48  \n",
       "15                                 0.69  \n",
       "16                                 0.85  \n",
       "17                                 0.58  \n",
       "18                                 0.50  \n",
       "19                                 0.58  \n",
       "20                                 0.67  \n",
       "21                                 0.99  \n",
       "22                                 0.91  \n",
       "23                                 0.84  \n",
       "24                                 0.69  \n",
       "25                                 0.60  \n",
       "26                                 0.98  \n",
       "27                                 0.39  \n",
       "28                                 0.14  \n",
       "29                                 0.35  \n",
       "30                                 0.35  \n",
       "31                                 0.68  \n",
       "32                                 0.45  \n",
       "33                                 0.69  \n",
       "34                                 1.06  \n",
       "35                                 0.78  \n",
       "36                                 0.64  \n",
       "37                                 0.88  \n",
       "38                                 0.92  "
      ]
     },
     "metadata": {},
     "output_type": "display_data"
    }
   ],
   "source": [
    "# import dataframe\n",
    "df = pd.read_csv('DataFinal.csv', sep=\";\", decimal=\".\")\n",
    "N_COLUMNS = len(df.columns)\n",
    "N_ROWS = len(df.index)\n",
    "with pd.option_context('display.max_rows', None, 'display.max_columns', None):\n",
    "    display(df)"
   ]
  },
  {
   "cell_type": "code",
   "execution_count": 61,
   "metadata": {},
   "outputs": [
    {
     "data": {
      "text/plain": [
       "<matplotlib.axes._subplots.AxesSubplot at 0x2ee9feb7ac8>"
      ]
     },
     "execution_count": 61,
     "metadata": {},
     "output_type": "execute_result"
    },
    {
     "data": {
      "image/png": "[encoded data removed]",
      "text/plain": [
       "<Figure size 432x288 with 1 Axes>"
      ]
     },
     "metadata": {
      "needs_background": "light"
     },
     "output_type": "display_data"
    },
    {
     "data": {
      "image/png": "[encoded data removed]",
      "text/plain": [
       "<Figure size 432x288 with 1 Axes>"
      ]
     },
     "metadata": {
      "needs_background": "light"
     },
     "output_type": "display_data"
    },
    {
     "data": {
      "image/png": "[encoded data removed]",
      "text/plain": [
       "<Figure size 432x288 with 1 Axes>"
      ]
     },
     "metadata": {
      "needs_background": "light"
     },
     "output_type": "display_data"
    },
    {
     "data": {
      "image/png": "[encoded data removed]",
      "text/plain": [
       "<Figure size 432x288 with 1 Axes>"
      ]
     },
     "metadata": {
      "needs_background": "light"
     },
     "output_type": "display_data"
    },
    {
     "data": {
      "image/png": "[encoded data removed]",
      "text/plain": [
       "<Figure size 432x288 with 1 Axes>"
      ]
     },
     "metadata": {
      "needs_background": "light"
     },
     "output_type": "display_data"
    }
   ],
   "source": [
    "df.plot(y = 'Средняя цена авокадо в США (в долларах)')\n",
    "df.plot(y = 'Общее количество проданных авокадо (в фунтах)')\n",
    "df.plot(y = 'Количество запросов \"Здоровая еда\"')\n",
    "df.plot(y = 'Количество запросов по слову \"Авокадо\"')\n",
    "df.plot(y = 'Температура (отклонение от средней)')"
   ]
  },
  {
   "cell_type": "code",
   "execution_count": 62,
   "metadata": {},
   "outputs": [
    {
     "name": "stderr",
     "output_type": "stream",
     "text": [
      "INFO:fbprophet:Disabling weekly seasonality. Run prophet with weekly_seasonality=True to override this.\n",
      "INFO:fbprophet:Disabling daily seasonality. Run prophet with daily_seasonality=True to override this.\n"
     ]
    },
    {
     "data": {
      "image/png": "[encoded data removed]",
      "text/plain": [
       "<Figure size 720x432 with 1 Axes>"
      ]
     },
     "metadata": {},
     "output_type": "display_data"
    },
    {
     "data": {
      "image/png": "[encoded data removed]",
      "text/plain": [
       "<Figure size 648x432 with 2 Axes>"
      ]
     },
     "metadata": {},
     "output_type": "display_data"
    }
   ],
   "source": [
    "train_df = df[['Средняя цена авокадо в США (в долларах)', 'Дата']].copy()\n",
    "train_df['y'] = train_df['Средняя цена авокадо в США (в долларах)']\n",
    "train_df['ds'] = train_df['Дата']\n",
    "train_df = train_df[:-4]\n",
    "m = Prophet()\n",
    "m.fit(train_df)\n",
    "\n",
    "future = m.make_future_dataframe(periods=12, freq='M')\n",
    "fcst = m.predict(future)\n",
    "fig1 = m.plot(fcst)\n",
    "fig2 = m.plot_components(fcst)"
   ]
  },
  {
   "cell_type": "code",
   "execution_count": 63,
   "metadata": {
    "scrolled": false
   },
   "outputs": [
    {
     "data": {
      "application/vnd.plotly.v1+json": {
       "config": {
        "linkText": "Export to plot.ly",
        "plotlyServerURL": "https://plot.ly",
        "showLink": false
       },
       "data": [
        {
         "line": {
          "width": 0
         },
         "marker": {
          "color": "olive"
         },
         "mode": "lines",
         "name": "Lower Bound",
         "type": "scatter",
         "x": [
          "2015-01-31T00:00:00",
          "2015-02-28T00:00:00",
          "2015-03-31T00:00:00",
          "2015-04-30T00:00:00",
          "2015-05-31T00:00:00",
          "2015-06-30T00:00:00",
          "2015-07-31T00:00:00",
          "2015-08-31T00:00:00",
          "2015-09-30T00:00:00",
          "2015-10-31T00:00:00",
          "2015-11-30T00:00:00",
          "2015-12-31T00:00:00",
          "2016-01-31T00:00:00",
          "2016-02-29T00:00:00",
          "2016-03-31T00:00:00",
          "2016-04-30T00:00:00",
          "2016-05-31T00:00:00",
          "2016-06-30T00:00:00",
          "2016-07-31T00:00:00",
          "2016-08-31T00:00:00",
          "2016-09-30T00:00:00",
          "2016-10-31T00:00:00",
          "2016-11-30T00:00:00",
          "2016-12-31T00:00:00",
          "2017-01-31T00:00:00",
          "2017-02-28T00:00:00",
          "2017-03-31T00:00:00",
          "2017-04-30T00:00:00",
          "2017-05-31T00:00:00",
          "2017-06-30T00:00:00",
          "2017-07-31T00:00:00",
          "2017-08-31T00:00:00",
          "2017-09-30T00:00:00",
          "2017-10-31T00:00:00",
          "2017-11-30T00:00:00",
          "2017-12-31T00:00:00",
          "2018-01-31T00:00:00",
          "2018-02-28T00:00:00",
          "2018-03-31T00:00:00",
          "2018-04-30T00:00:00",
          "2018-05-31T00:00:00",
          "2018-06-30T00:00:00",
          "2018-07-31T00:00:00",
          "2018-08-31T00:00:00",
          "2018-09-30T00:00:00",
          "2018-10-31T00:00:00",
          "2018-11-30T00:00:00"
         ],
         "y": [
          1.2753446877203671,
          1.2051292340335649,
          1.2660671990877765,
          1.3099375407596061,
          1.2895994221558567,
          1.3350185471491922,
          1.34250016034841,
          1.4127122419813225,
          1.4501661042972929,
          1.3508195005192276,
          1.2392607743964836,
          1.247148263939853,
          1.1743626015099695,
          1.1164253311402659,
          1.1746047375245867,
          1.1856942213431139,
          1.1924696841826266,
          1.2343338030551658,
          1.3127809322299946,
          1.3611789624190567,
          1.4266172530881733,
          1.486643913884709,
          1.3894206227136383,
          1.246768206029457,
          1.233022371695253,
          1.2665417427128725,
          1.3522051340317927,
          1.4012695015468748,
          1.4067438175279594,
          1.4587991367393616,
          1.5275956457610942,
          1.58571491723704,
          1.6544796059361782,
          1.671967176240804,
          1.5807168145003272,
          1.4949465310668628,
          1.4694164361815865,
          1.4591750677647428,
          1.5537735944543485,
          1.6119846295933262,
          1.6168728853478262,
          1.6814170400300459,
          1.7361823107819032,
          1.810587783183227,
          1.8764336013840455,
          1.8516201303173796,
          1.7494876094798273
         ]
        },
        {
         "fill": "tonexty",
         "fillcolor": "rgba(68, 68, 68, 0.3)",
         "line": {
          "width": 0
         },
         "marker": {
          "color": "olive"
         },
         "mode": "lines",
         "name": "Upper Bound",
         "type": "scatter",
         "x": [
          "2015-01-31T00:00:00",
          "2015-02-28T00:00:00",
          "2015-03-31T00:00:00",
          "2015-04-30T00:00:00",
          "2015-05-31T00:00:00",
          "2015-06-30T00:00:00",
          "2015-07-31T00:00:00",
          "2015-08-31T00:00:00",
          "2015-09-30T00:00:00",
          "2015-10-31T00:00:00",
          "2015-11-30T00:00:00",
          "2015-12-31T00:00:00",
          "2016-01-31T00:00:00",
          "2016-02-29T00:00:00",
          "2016-03-31T00:00:00",
          "2016-04-30T00:00:00",
          "2016-05-31T00:00:00",
          "2016-06-30T00:00:00",
          "2016-07-31T00:00:00",
          "2016-08-31T00:00:00",
          "2016-09-30T00:00:00",
          "2016-10-31T00:00:00",
          "2016-11-30T00:00:00",
          "2016-12-31T00:00:00",
          "2017-01-31T00:00:00",
          "2017-02-28T00:00:00",
          "2017-03-31T00:00:00",
          "2017-04-30T00:00:00",
          "2017-05-31T00:00:00",
          "2017-06-30T00:00:00",
          "2017-07-31T00:00:00",
          "2017-08-31T00:00:00",
          "2017-09-30T00:00:00",
          "2017-10-31T00:00:00",
          "2017-11-30T00:00:00",
          "2017-12-31T00:00:00",
          "2018-01-31T00:00:00",
          "2018-02-28T00:00:00",
          "2018-03-31T00:00:00",
          "2018-04-30T00:00:00",
          "2018-05-31T00:00:00",
          "2018-06-30T00:00:00",
          "2018-07-31T00:00:00",
          "2018-08-31T00:00:00",
          "2018-09-30T00:00:00",
          "2018-10-31T00:00:00",
          "2018-11-30T00:00:00"
         ],
         "y": [
          1.4044475943901913,
          1.3277949608174289,
          1.397239115584738,
          1.4319397416079023,
          1.4150415492227126,
          1.4612401252385872,
          1.4723621411398418,
          1.5383966481966485,
          1.5765011799561037,
          1.4802177179816793,
          1.365895245221377,
          1.3694743329809653,
          1.305187569678133,
          1.2474092776784904,
          1.3045979304096562,
          1.317278222164581,
          1.321891325144193,
          1.3603357727512055,
          1.4422158239923095,
          1.4855968890668763,
          1.5506871426523061,
          1.6107617621628163,
          1.5231793438053223,
          1.3795435329003387,
          1.3603672866475438,
          1.3915230747457052,
          1.4775216610852273,
          1.5303946671149113,
          1.5341570168349479,
          1.5864903117705285,
          1.6514172205143902,
          1.7158824001614572,
          1.7783400462870622,
          1.8008083694896562,
          1.7042955537947266,
          1.6248643876507125,
          1.6056264598970287,
          1.5876280599055919,
          1.677208039918463,
          1.7444314354851835,
          1.7499920077351332,
          1.8148468245362763,
          1.8643842431639046,
          1.9515622105558659,
          2.0218834068526776,
          1.9935273055571305,
          1.9127703769954498
         ]
        },
        {
         "line": {
          "color": "rgb(31, 119, 180)"
         },
         "mode": "lines",
         "name": "Prediction",
         "type": "scatter",
         "x": [
          "2015-01-31T00:00:00",
          "2015-02-28T00:00:00",
          "2015-03-31T00:00:00",
          "2015-04-30T00:00:00",
          "2015-05-31T00:00:00",
          "2015-06-30T00:00:00",
          "2015-07-31T00:00:00",
          "2015-08-31T00:00:00",
          "2015-09-30T00:00:00",
          "2015-10-31T00:00:00",
          "2015-11-30T00:00:00",
          "2015-12-31T00:00:00",
          "2016-01-31T00:00:00",
          "2016-02-29T00:00:00",
          "2016-03-31T00:00:00",
          "2016-04-30T00:00:00",
          "2016-05-31T00:00:00",
          "2016-06-30T00:00:00",
          "2016-07-31T00:00:00",
          "2016-08-31T00:00:00",
          "2016-09-30T00:00:00",
          "2016-10-31T00:00:00",
          "2016-11-30T00:00:00",
          "2016-12-31T00:00:00",
          "2017-01-31T00:00:00",
          "2017-02-28T00:00:00",
          "2017-03-31T00:00:00",
          "2017-04-30T00:00:00",
          "2017-05-31T00:00:00",
          "2017-06-30T00:00:00",
          "2017-07-31T00:00:00",
          "2017-08-31T00:00:00",
          "2017-09-30T00:00:00",
          "2017-10-31T00:00:00",
          "2017-11-30T00:00:00",
          "2017-12-31T00:00:00",
          "2018-01-31T00:00:00",
          "2018-02-28T00:00:00",
          "2018-03-31T00:00:00",
          "2018-04-30T00:00:00",
          "2018-05-31T00:00:00",
          "2018-06-30T00:00:00",
          "2018-07-31T00:00:00",
          "2018-08-31T00:00:00",
          "2018-09-30T00:00:00",
          "2018-10-31T00:00:00",
          "2018-11-30T00:00:00"
         ],
         "y": [
          1.3458940355113242,
          1.2668600760766853,
          1.3321896966016566,
          1.3734745183341706,
          1.3505109658321133,
          1.401184241110105,
          1.4087240603884637,
          1.4772870095935435,
          1.5119167244688718,
          1.4172463610683483,
          1.3029534681899215,
          1.308517331791671,
          1.2414089614642143,
          1.1849956163141617,
          1.2393646781885657,
          1.2529740783642251,
          1.257027843066478,
          1.3009271679085477,
          1.3779355023236626,
          1.424532955335295,
          1.4889131875573074,
          1.5490810814800557,
          1.453667888942939,
          1.3130377464520726,
          1.295882664512096,
          1.3270208302627577,
          1.4136364301839277,
          1.4644708239247466,
          1.469266677680693,
          1.5251130497372647,
          1.5887626309458331,
          1.6525115245519963,
          1.7171687827650506,
          1.7352436052596663,
          1.641496593253142,
          1.5594388136565176,
          1.5366446886949754,
          1.5259896361447014,
          1.616302785149264,
          1.6764162381027723,
          1.68193207491332,
          1.749457043922016,
          1.799691872312103,
          1.8805166820242352,
          1.9446939624654604,
          1.9208882004575163,
          1.8302796013228715
         ]
        },
        {
         "marker": {
          "color": "red"
         },
         "mode": "lines",
         "name": "Fact",
         "type": "scatter",
         "x": [
          "2015-01-31T00:00:00",
          "2015-02-28T00:00:00",
          "2015-03-31T00:00:00",
          "2015-04-30T00:00:00",
          "2015-05-31T00:00:00",
          "2015-06-30T00:00:00",
          "2015-07-31T00:00:00",
          "2015-08-31T00:00:00",
          "2015-09-30T00:00:00",
          "2015-10-31T00:00:00",
          "2015-11-30T00:00:00",
          "2015-12-31T00:00:00",
          "2016-01-31T00:00:00",
          "2016-02-29T00:00:00",
          "2016-03-31T00:00:00",
          "2016-04-30T00:00:00",
          "2016-05-31T00:00:00",
          "2016-06-30T00:00:00",
          "2016-07-31T00:00:00",
          "2016-08-31T00:00:00",
          "2016-09-30T00:00:00",
          "2016-10-31T00:00:00",
          "2016-11-30T00:00:00",
          "2016-12-31T00:00:00",
          "2017-01-31T00:00:00",
          "2017-02-28T00:00:00",
          "2017-03-31T00:00:00",
          "2017-04-30T00:00:00",
          "2017-05-31T00:00:00",
          "2017-06-30T00:00:00",
          "2017-07-31T00:00:00",
          "2017-08-31T00:00:00",
          "2017-09-30T00:00:00",
          "2017-10-31T00:00:00",
          "2017-11-30T00:00:00",
          "2017-12-31T00:00:00",
          "2018-01-31T00:00:00",
          "2018-02-28T00:00:00",
          "2018-03-31T00:00:00",
          "2018-04-30T00:00:00",
          "2018-05-31T00:00:00",
          "2018-06-30T00:00:00",
          "2018-07-31T00:00:00",
          "2018-08-31T00:00:00",
          "2018-09-30T00:00:00",
          "2018-10-31T00:00:00",
          "2018-11-30T00:00:00"
         ],
         "y": [
          1.365046296,
          1.326944444,
          1.361981481,
          1.383449074,
          1.344685185,
          1.399074074,
          1.409444444,
          1.444481481,
          1.4491435190000002,
          1.3919675930000002,
          1.3306111109999998,
          1.305243619,
          1.240185185,
          1.2371064809999999,
          1.224212963,
          1.205023148,
          1.1997222220000001,
          1.2830555559999999,
          1.4013333330000002,
          1.4111111109999999,
          1.42787037,
          1.5570925930000001,
          1.5500231480000002,
          1.31599537,
          1.2775,
          1.214791667,
          1.398935185,
          1.502611111,
          1.5325925930000002,
          1.545395349,
          1.564925926,
          1.6989583330000002,
          1.840949074,
          1.752444444,
          1.5172916669999998,
          1.3638518519999998,
          1.387430556,
          1.318703704,
          1.336458333,
          null,
          null,
          null,
          null,
          null,
          null,
          null,
          null
         ]
        }
       ],
       "layout": {
        "showlegend": false,
        "template": {
         "data": {
          "bar": [
           {
            "error_x": {
             "color": "#2a3f5f"
            },
            "error_y": {
             "color": "#2a3f5f"
            },
            "marker": {
             "line": {
              "color": "#E5ECF6",
              "width": 0.5
             }
            },
            "type": "bar"
           }
          ],
          "barpolar": [
           {
            "marker": {
             "line": {
              "color": "#E5ECF6",
              "width": 0.5
             }
            },
            "type": "barpolar"
           }
          ],
          "carpet": [
           {
            "aaxis": {
             "endlinecolor": "#2a3f5f",
             "gridcolor": "white",
             "linecolor": "white",
             "minorgridcolor": "white",
             "startlinecolor": "#2a3f5f"
            },
            "baxis": {
             "endlinecolor": "#2a3f5f",
             "gridcolor": "white",
             "linecolor": "white",
             "minorgridcolor": "white",
             "startlinecolor": "#2a3f5f"
            },
            "type": "carpet"
           }
          ],
          "choropleth": [
           {
            "colorbar": {
             "outlinewidth": 0,
             "ticks": ""
            },
            "type": "choropleth"
           }
          ],
          "contour": [
           {
            "colorbar": {
             "outlinewidth": 0,
             "ticks": ""
            },
            "colorscale": [
             [
              0,
              "#0d0887"
             ],
             [
              0.1111111111111111,
              "#46039f"
             ],
             [
              0.2222222222222222,
              "#7201a8"
             ],
             [
              0.3333333333333333,
              "#9c179e"
             ],
             [
              0.4444444444444444,
              "#bd3786"
             ],
             [
              0.5555555555555556,
              "#d8576b"
             ],
             [
              0.6666666666666666,
              "#ed7953"
             ],
             [
              0.7777777777777778,
              "#fb9f3a"
             ],
             [
              0.8888888888888888,
              "#fdca26"
             ],
             [
              1,
              "#f0f921"
             ]
            ],
            "type": "contour"
           }
          ],
          "contourcarpet": [
           {
            "colorbar": {
             "outlinewidth": 0,
             "ticks": ""
            },
            "type": "contourcarpet"
           }
          ],
          "heatmap": [
           {
            "colorbar": {
             "outlinewidth": 0,
             "ticks": ""
            },
            "colorscale": [
             [
              0,
              "#0d0887"
             ],
             [
              0.1111111111111111,
              "#46039f"
             ],
             [
              0.2222222222222222,
              "#7201a8"
             ],
             [
              0.3333333333333333,
              "#9c179e"
             ],
             [
              0.4444444444444444,
              "#bd3786"
             ],
             [
              0.5555555555555556,
              "#d8576b"
             ],
             [
              0.6666666666666666,
              "#ed7953"
             ],
             [
              0.7777777777777778,
              "#fb9f3a"
             ],
             [
              0.8888888888888888,
              "#fdca26"
             ],
             [
              1,
              "#f0f921"
             ]
            ],
            "type": "heatmap"
           }
          ],
          "heatmapgl": [
           {
            "colorbar": {
             "outlinewidth": 0,
             "ticks": ""
            },
            "colorscale": [
             [
              0,
              "#0d0887"
             ],
             [
              0.1111111111111111,
              "#46039f"
             ],
             [
              0.2222222222222222,
              "#7201a8"
             ],
             [
              0.3333333333333333,
              "#9c179e"
             ],
             [
              0.4444444444444444,
              "#bd3786"
             ],
             [
              0.5555555555555556,
              "#d8576b"
             ],
             [
              0.6666666666666666,
              "#ed7953"
             ],
             [
              0.7777777777777778,
              "#fb9f3a"
             ],
             [
              0.8888888888888888,
              "#fdca26"
             ],
             [
              1,
              "#f0f921"
             ]
            ],
            "type": "heatmapgl"
           }
          ],
          "histogram": [
           {
            "marker": {
             "colorbar": {
              "outlinewidth": 0,
              "ticks": ""
             }
            },
            "type": "histogram"
           }
          ],
          "histogram2d": [
           {
            "colorbar": {
             "outlinewidth": 0,
             "ticks": ""
            },
            "colorscale": [
             [
              0,
              "#0d0887"
             ],
             [
              0.1111111111111111,
              "#46039f"
             ],
             [
              0.2222222222222222,
              "#7201a8"
             ],
             [
              0.3333333333333333,
              "#9c179e"
             ],
             [
              0.4444444444444444,
              "#bd3786"
             ],
             [
              0.5555555555555556,
              "#d8576b"
             ],
             [
              0.6666666666666666,
              "#ed7953"
             ],
             [
              0.7777777777777778,
              "#fb9f3a"
             ],
             [
              0.8888888888888888,
              "#fdca26"
             ],
             [
              1,
              "#f0f921"
             ]
            ],
            "type": "histogram2d"
           }
          ],
          "histogram2dcontour": [
           {
            "colorbar": {
             "outlinewidth": 0,
             "ticks": ""
            },
            "colorscale": [
             [
              0,
              "#0d0887"
             ],
             [
              0.1111111111111111,
              "#46039f"
             ],
             [
              0.2222222222222222,
              "#7201a8"
             ],
             [
              0.3333333333333333,
              "#9c179e"
             ],
             [
              0.4444444444444444,
              "#bd3786"
             ],
             [
              0.5555555555555556,
              "#d8576b"
             ],
             [
              0.6666666666666666,
              "#ed7953"
             ],
             [
              0.7777777777777778,
              "#fb9f3a"
             ],
             [
              0.8888888888888888,
              "#fdca26"
             ],
             [
              1,
              "#f0f921"
             ]
            ],
            "type": "histogram2dcontour"
           }
          ],
          "mesh3d": [
           {
            "colorbar": {
             "outlinewidth": 0,
             "ticks": ""
            },
            "type": "mesh3d"
           }
          ],
          "parcoords": [
           {
            "line": {
             "colorbar": {
              "outlinewidth": 0,
              "ticks": ""
             }
            },
            "type": "parcoords"
           }
          ],
          "scatter": [
           {
            "marker": {
             "colorbar": {
              "outlinewidth": 0,
              "ticks": ""
             }
            },
            "type": "scatter"
           }
          ],
          "scatter3d": [
           {
            "line": {
             "colorbar": {
              "outlinewidth": 0,
              "ticks": ""
             }
            },
            "marker": {
             "colorbar": {
              "outlinewidth": 0,
              "ticks": ""
             }
            },
            "type": "scatter3d"
           }
          ],
          "scattercarpet": [
           {
            "marker": {
             "colorbar": {
              "outlinewidth": 0,
              "ticks": ""
             }
            },
            "type": "scattercarpet"
           }
          ],
          "scattergeo": [
           {
            "marker": {
             "colorbar": {
              "outlinewidth": 0,
              "ticks": ""
             }
            },
            "type": "scattergeo"
           }
          ],
          "scattergl": [
           {
            "marker": {
             "colorbar": {
              "outlinewidth": 0,
              "ticks": ""
             }
            },
            "type": "scattergl"
           }
          ],
          "scattermapbox": [
           {
            "marker": {
             "colorbar": {
              "outlinewidth": 0,
              "ticks": ""
             }
            },
            "type": "scattermapbox"
           }
          ],
          "scatterpolar": [
           {
            "marker": {
             "colorbar": {
              "outlinewidth": 0,
              "ticks": ""
             }
            },
            "type": "scatterpolar"
           }
          ],
          "scatterpolargl": [
           {
            "marker": {
             "colorbar": {
              "outlinewidth": 0,
              "ticks": ""
             }
            },
            "type": "scatterpolargl"
           }
          ],
          "scatterternary": [
           {
            "marker": {
             "colorbar": {
              "outlinewidth": 0,
              "ticks": ""
             }
            },
            "type": "scatterternary"
           }
          ],
          "surface": [
           {
            "colorbar": {
             "outlinewidth": 0,
             "ticks": ""
            },
            "colorscale": [
             [
              0,
              "#0d0887"
             ],
             [
              0.1111111111111111,
              "#46039f"
             ],
             [
              0.2222222222222222,
              "#7201a8"
             ],
             [
              0.3333333333333333,
              "#9c179e"
             ],
             [
              0.4444444444444444,
              "#bd3786"
             ],
             [
              0.5555555555555556,
              "#d8576b"
             ],
             [
              0.6666666666666666,
              "#ed7953"
             ],
             [
              0.7777777777777778,
              "#fb9f3a"
             ],
             [
              0.8888888888888888,
              "#fdca26"
             ],
             [
              1,
              "#f0f921"
             ]
            ],
            "type": "surface"
           }
          ],
          "table": [
           {
            "cells": {
             "fill": {
              "color": "#EBF0F8"
             },
             "line": {
              "color": "white"
             }
            },
            "header": {
             "fill": {
              "color": "#C8D4E3"
             },
             "line": {
              "color": "white"
             }
            },
            "type": "table"
           }
          ]
         },
         "layout": {
          "annotationdefaults": {
           "arrowcolor": "#2a3f5f",
           "arrowhead": 0,
           "arrowwidth": 1
          },
          "colorscale": {
           "diverging": [
            [
             0,
             "#8e0152"
            ],
            [
             0.1,
             "#c51b7d"
            ],
            [
             0.2,
             "#de77ae"
            ],
            [
             0.3,
             "#f1b6da"
            ],
            [
             0.4,
             "#fde0ef"
            ],
            [
             0.5,
             "#f7f7f7"
            ],
            [
             0.6,
             "#e6f5d0"
            ],
            [
             0.7,
             "#b8e186"
            ],
            [
             0.8,
             "#7fbc41"
            ],
            [
             0.9,
             "#4d9221"
            ],
            [
             1,
             "#276419"
            ]
           ],
           "sequential": [
            [
             0,
             "#0d0887"
            ],
            [
             0.1111111111111111,
             "#46039f"
            ],
            [
             0.2222222222222222,
             "#7201a8"
            ],
            [
             0.3333333333333333,
             "#9c179e"
            ],
            [
             0.4444444444444444,
             "#bd3786"
            ],
            [
             0.5555555555555556,
             "#d8576b"
            ],
            [
             0.6666666666666666,
             "#ed7953"
            ],
            [
             0.7777777777777778,
             "#fb9f3a"
            ],
            [
             0.8888888888888888,
             "#fdca26"
            ],
            [
             1,
             "#f0f921"
            ]
           ],
           "sequentialminus": [
            [
             0,
             "#0d0887"
            ],
            [
             0.1111111111111111,
             "#46039f"
            ],
            [
             0.2222222222222222,
             "#7201a8"
            ],
            [
             0.3333333333333333,
             "#9c179e"
            ],
            [
             0.4444444444444444,
             "#bd3786"
            ],
            [
             0.5555555555555556,
             "#d8576b"
            ],
            [
             0.6666666666666666,
             "#ed7953"
            ],
            [
             0.7777777777777778,
             "#fb9f3a"
            ],
            [
             0.8888888888888888,
             "#fdca26"
            ],
            [
             1,
             "#f0f921"
            ]
           ]
          },
          "colorway": [
           "#636efa",
           "#EF553B",
           "#00cc96",
           "#ab63fa",
           "#FFA15A",
           "#19d3f3",
           "#FF6692",
           "#B6E880",
           "#FF97FF",
           "#FECB52"
          ],
          "font": {
           "color": "#2a3f5f"
          },
          "geo": {
           "bgcolor": "white",
           "lakecolor": "white",
           "landcolor": "#E5ECF6",
           "showlakes": true,
           "showland": true,
           "subunitcolor": "white"
          },
          "hoverlabel": {
           "align": "left"
          },
          "hovermode": "closest",
          "mapbox": {
           "style": "light"
          },
          "paper_bgcolor": "white",
          "plot_bgcolor": "#E5ECF6",
          "polar": {
           "angularaxis": {
            "gridcolor": "white",
            "linecolor": "white",
            "ticks": ""
           },
           "bgcolor": "#E5ECF6",
           "radialaxis": {
            "gridcolor": "white",
            "linecolor": "white",
            "ticks": ""
           }
          },
          "scene": {
           "xaxis": {
            "backgroundcolor": "#E5ECF6",
            "gridcolor": "white",
            "gridwidth": 2,
            "linecolor": "white",
            "showbackground": true,
            "ticks": "",
            "zerolinecolor": "white"
           },
           "yaxis": {
            "backgroundcolor": "#E5ECF6",
            "gridcolor": "white",
            "gridwidth": 2,
            "linecolor": "white",
            "showbackground": true,
            "ticks": "",
            "zerolinecolor": "white"
           },
           "zaxis": {
            "backgroundcolor": "#E5ECF6",
            "gridcolor": "white",
            "gridwidth": 2,
            "linecolor": "white",
            "showbackground": true,
            "ticks": "",
            "zerolinecolor": "white"
           }
          },
          "shapedefaults": {
           "line": {
            "color": "#2a3f5f"
           }
          },
          "ternary": {
           "aaxis": {
            "gridcolor": "white",
            "linecolor": "white",
            "ticks": ""
           },
           "baxis": {
            "gridcolor": "white",
            "linecolor": "white",
            "ticks": ""
           },
           "bgcolor": "#E5ECF6",
           "caxis": {
            "gridcolor": "white",
            "linecolor": "white",
            "ticks": ""
           }
          },
          "title": {
           "x": 0.05
          },
          "xaxis": {
           "automargin": true,
           "gridcolor": "white",
           "linecolor": "white",
           "ticks": "",
           "zerolinecolor": "white",
           "zerolinewidth": 2
          },
          "yaxis": {
           "automargin": true,
           "gridcolor": "white",
           "linecolor": "white",
           "ticks": "",
           "zerolinecolor": "white",
           "zerolinewidth": 2
          }
         }
        },
        "yaxis": {
         "title": {
          "text": "Цена на авокадо в долларах США"
         }
        }
       }
      },
      "text/html": [
       "<div>\n",
       "        \n",
       "        \n",
       "            <div id=\"9298ecf5-7d20-406e-8cfc-59cbc3e8257c\" class=\"plotly-graph-div\" style=\"height:525px; width:100%;\"></div>\n",
       "            <script type=\"text/javascript\">\n",
       "                require([\"plotly\"], function(Plotly) {\n",
       "                    window.PLOTLYENV=window.PLOTLYENV || {};\n",
       "                    \n",
       "                if (document.getElementById(\"9298ecf5-7d20-406e-8cfc-59cbc3e8257c\")) {\n",
       "                    Plotly.newPlot(\n",
       "                        '9298ecf5-7d20-406e-8cfc-59cbc3e8257c',\n",
       "                        [{\"line\": {\"width\": 0}, \"marker\": {\"color\": \"olive\"}, \"mode\": \"lines\", \"name\": \"Lower Bound\", \"type\": \"scatter\", \"x\": [\"2015-01-31T00:00:00\", \"2015-02-28T00:00:00\", \"2015-03-31T00:00:00\", \"2015-04-30T00:00:00\", \"2015-05-31T00:00:00\", \"2015-06-30T00:00:00\", \"2015-07-31T00:00:00\", \"2015-08-31T00:00:00\", \"2015-09-30T00:00:00\", \"2015-10-31T00:00:00\", \"2015-11-30T00:00:00\", \"2015-12-31T00:00:00\", \"2016-01-31T00:00:00\", \"2016-02-29T00:00:00\", \"2016-03-31T00:00:00\", \"2016-04-30T00:00:00\", \"2016-05-31T00:00:00\", \"2016-06-30T00:00:00\", \"2016-07-31T00:00:00\", \"2016-08-31T00:00:00\", \"2016-09-30T00:00:00\", \"2016-10-31T00:00:00\", \"2016-11-30T00:00:00\", \"2016-12-31T00:00:00\", \"2017-01-31T00:00:00\", \"2017-02-28T00:00:00\", \"2017-03-31T00:00:00\", \"2017-04-30T00:00:00\", \"2017-05-31T00:00:00\", \"2017-06-30T00:00:00\", \"2017-07-31T00:00:00\", \"2017-08-31T00:00:00\", \"2017-09-30T00:00:00\", \"2017-10-31T00:00:00\", \"2017-11-30T00:00:00\", \"2017-12-31T00:00:00\", \"2018-01-31T00:00:00\", \"2018-02-28T00:00:00\", \"2018-03-31T00:00:00\", \"2018-04-30T00:00:00\", \"2018-05-31T00:00:00\", \"2018-06-30T00:00:00\", \"2018-07-31T00:00:00\", \"2018-08-31T00:00:00\", \"2018-09-30T00:00:00\", \"2018-10-31T00:00:00\", \"2018-11-30T00:00:00\"], \"y\": [1.2753446877203671, 1.2051292340335649, 1.2660671990877765, 1.3099375407596061, 1.2895994221558567, 1.3350185471491922, 1.34250016034841, 1.4127122419813225, 1.4501661042972929, 1.3508195005192276, 1.2392607743964836, 1.247148263939853, 1.1743626015099695, 1.1164253311402659, 1.1746047375245867, 1.1856942213431139, 1.1924696841826266, 1.2343338030551658, 1.3127809322299946, 1.3611789624190567, 1.4266172530881733, 1.486643913884709, 1.3894206227136383, 1.246768206029457, 1.233022371695253, 1.2665417427128725, 1.3522051340317927, 1.4012695015468748, 1.4067438175279594, 1.4587991367393616, 1.5275956457610942, 1.58571491723704, 1.6544796059361782, 1.671967176240804, 1.5807168145003272, 1.4949465310668628, 1.4694164361815865, 1.4591750677647428, 1.5537735944543485, 1.6119846295933262, 1.6168728853478262, 1.6814170400300459, 1.7361823107819032, 1.810587783183227, 1.8764336013840455, 1.8516201303173796, 1.7494876094798273]}, {\"fill\": \"tonexty\", \"fillcolor\": \"rgba(68, 68, 68, 0.3)\", \"line\": {\"width\": 0}, \"marker\": {\"color\": \"olive\"}, \"mode\": \"lines\", \"name\": \"Upper Bound\", \"type\": \"scatter\", \"x\": [\"2015-01-31T00:00:00\", \"2015-02-28T00:00:00\", \"2015-03-31T00:00:00\", \"2015-04-30T00:00:00\", \"2015-05-31T00:00:00\", \"2015-06-30T00:00:00\", \"2015-07-31T00:00:00\", \"2015-08-31T00:00:00\", \"2015-09-30T00:00:00\", \"2015-10-31T00:00:00\", \"2015-11-30T00:00:00\", \"2015-12-31T00:00:00\", \"2016-01-31T00:00:00\", \"2016-02-29T00:00:00\", \"2016-03-31T00:00:00\", \"2016-04-30T00:00:00\", \"2016-05-31T00:00:00\", \"2016-06-30T00:00:00\", \"2016-07-31T00:00:00\", \"2016-08-31T00:00:00\", \"2016-09-30T00:00:00\", \"2016-10-31T00:00:00\", \"2016-11-30T00:00:00\", \"2016-12-31T00:00:00\", \"2017-01-31T00:00:00\", \"2017-02-28T00:00:00\", \"2017-03-31T00:00:00\", \"2017-04-30T00:00:00\", \"2017-05-31T00:00:00\", \"2017-06-30T00:00:00\", \"2017-07-31T00:00:00\", \"2017-08-31T00:00:00\", \"2017-09-30T00:00:00\", \"2017-10-31T00:00:00\", \"2017-11-30T00:00:00\", \"2017-12-31T00:00:00\", \"2018-01-31T00:00:00\", \"2018-02-28T00:00:00\", \"2018-03-31T00:00:00\", \"2018-04-30T00:00:00\", \"2018-05-31T00:00:00\", \"2018-06-30T00:00:00\", \"2018-07-31T00:00:00\", \"2018-08-31T00:00:00\", \"2018-09-30T00:00:00\", \"2018-10-31T00:00:00\", \"2018-11-30T00:00:00\"], \"y\": [1.4044475943901913, 1.3277949608174289, 1.397239115584738, 1.4319397416079023, 1.4150415492227126, 1.4612401252385872, 1.4723621411398418, 1.5383966481966485, 1.5765011799561037, 1.4802177179816793, 1.365895245221377, 1.3694743329809653, 1.305187569678133, 1.2474092776784904, 1.3045979304096562, 1.317278222164581, 1.321891325144193, 1.3603357727512055, 1.4422158239923095, 1.4855968890668763, 1.5506871426523061, 1.6107617621628163, 1.5231793438053223, 1.3795435329003387, 1.3603672866475438, 1.3915230747457052, 1.4775216610852273, 1.5303946671149113, 1.5341570168349479, 1.5864903117705285, 1.6514172205143902, 1.7158824001614572, 1.7783400462870622, 1.8008083694896562, 1.7042955537947266, 1.6248643876507125, 1.6056264598970287, 1.5876280599055919, 1.677208039918463, 1.7444314354851835, 1.7499920077351332, 1.8148468245362763, 1.8643842431639046, 1.9515622105558659, 2.0218834068526776, 1.9935273055571305, 1.9127703769954498]}, {\"line\": {\"color\": \"rgb(31, 119, 180)\"}, \"mode\": \"lines\", \"name\": \"Prediction\", \"type\": \"scatter\", \"x\": [\"2015-01-31T00:00:00\", \"2015-02-28T00:00:00\", \"2015-03-31T00:00:00\", \"2015-04-30T00:00:00\", \"2015-05-31T00:00:00\", \"2015-06-30T00:00:00\", \"2015-07-31T00:00:00\", \"2015-08-31T00:00:00\", \"2015-09-30T00:00:00\", \"2015-10-31T00:00:00\", \"2015-11-30T00:00:00\", \"2015-12-31T00:00:00\", \"2016-01-31T00:00:00\", \"2016-02-29T00:00:00\", \"2016-03-31T00:00:00\", \"2016-04-30T00:00:00\", \"2016-05-31T00:00:00\", \"2016-06-30T00:00:00\", \"2016-07-31T00:00:00\", \"2016-08-31T00:00:00\", \"2016-09-30T00:00:00\", \"2016-10-31T00:00:00\", \"2016-11-30T00:00:00\", \"2016-12-31T00:00:00\", \"2017-01-31T00:00:00\", \"2017-02-28T00:00:00\", \"2017-03-31T00:00:00\", \"2017-04-30T00:00:00\", \"2017-05-31T00:00:00\", \"2017-06-30T00:00:00\", \"2017-07-31T00:00:00\", \"2017-08-31T00:00:00\", \"2017-09-30T00:00:00\", \"2017-10-31T00:00:00\", \"2017-11-30T00:00:00\", \"2017-12-31T00:00:00\", \"2018-01-31T00:00:00\", \"2018-02-28T00:00:00\", \"2018-03-31T00:00:00\", \"2018-04-30T00:00:00\", \"2018-05-31T00:00:00\", \"2018-06-30T00:00:00\", \"2018-07-31T00:00:00\", \"2018-08-31T00:00:00\", \"2018-09-30T00:00:00\", \"2018-10-31T00:00:00\", \"2018-11-30T00:00:00\"], \"y\": [1.3458940355113242, 1.2668600760766853, 1.3321896966016566, 1.3734745183341706, 1.3505109658321133, 1.401184241110105, 1.4087240603884637, 1.4772870095935435, 1.5119167244688718, 1.4172463610683483, 1.3029534681899215, 1.308517331791671, 1.2414089614642143, 1.1849956163141617, 1.2393646781885657, 1.2529740783642251, 1.257027843066478, 1.3009271679085477, 1.3779355023236626, 1.424532955335295, 1.4889131875573074, 1.5490810814800557, 1.453667888942939, 1.3130377464520726, 1.295882664512096, 1.3270208302627577, 1.4136364301839277, 1.4644708239247466, 1.469266677680693, 1.5251130497372647, 1.5887626309458331, 1.6525115245519963, 1.7171687827650506, 1.7352436052596663, 1.641496593253142, 1.5594388136565176, 1.5366446886949754, 1.5259896361447014, 1.616302785149264, 1.6764162381027723, 1.68193207491332, 1.749457043922016, 1.799691872312103, 1.8805166820242352, 1.9446939624654604, 1.9208882004575163, 1.8302796013228715]}, {\"marker\": {\"color\": \"red\"}, \"mode\": \"lines\", \"name\": \"Fact\", \"type\": \"scatter\", \"x\": [\"2015-01-31T00:00:00\", \"2015-02-28T00:00:00\", \"2015-03-31T00:00:00\", \"2015-04-30T00:00:00\", \"2015-05-31T00:00:00\", \"2015-06-30T00:00:00\", \"2015-07-31T00:00:00\", \"2015-08-31T00:00:00\", \"2015-09-30T00:00:00\", \"2015-10-31T00:00:00\", \"2015-11-30T00:00:00\", \"2015-12-31T00:00:00\", \"2016-01-31T00:00:00\", \"2016-02-29T00:00:00\", \"2016-03-31T00:00:00\", \"2016-04-30T00:00:00\", \"2016-05-31T00:00:00\", \"2016-06-30T00:00:00\", \"2016-07-31T00:00:00\", \"2016-08-31T00:00:00\", \"2016-09-30T00:00:00\", \"2016-10-31T00:00:00\", \"2016-11-30T00:00:00\", \"2016-12-31T00:00:00\", \"2017-01-31T00:00:00\", \"2017-02-28T00:00:00\", \"2017-03-31T00:00:00\", \"2017-04-30T00:00:00\", \"2017-05-31T00:00:00\", \"2017-06-30T00:00:00\", \"2017-07-31T00:00:00\", \"2017-08-31T00:00:00\", \"2017-09-30T00:00:00\", \"2017-10-31T00:00:00\", \"2017-11-30T00:00:00\", \"2017-12-31T00:00:00\", \"2018-01-31T00:00:00\", \"2018-02-28T00:00:00\", \"2018-03-31T00:00:00\", \"2018-04-30T00:00:00\", \"2018-05-31T00:00:00\", \"2018-06-30T00:00:00\", \"2018-07-31T00:00:00\", \"2018-08-31T00:00:00\", \"2018-09-30T00:00:00\", \"2018-10-31T00:00:00\", \"2018-11-30T00:00:00\"], \"y\": [1.365046296, 1.326944444, 1.361981481, 1.383449074, 1.344685185, 1.399074074, 1.409444444, 1.444481481, 1.4491435190000002, 1.3919675930000002, 1.3306111109999998, 1.305243619, 1.240185185, 1.2371064809999999, 1.224212963, 1.205023148, 1.1997222220000001, 1.2830555559999999, 1.4013333330000002, 1.4111111109999999, 1.42787037, 1.5570925930000001, 1.5500231480000002, 1.31599537, 1.2775, 1.214791667, 1.398935185, 1.502611111, 1.5325925930000002, 1.545395349, 1.564925926, 1.6989583330000002, 1.840949074, 1.752444444, 1.5172916669999998, 1.3638518519999998, 1.387430556, 1.318703704, 1.336458333, null, null, null, null, null, null, null, null]}],\n",
       "                        {\"showlegend\": false, \"template\": {\"data\": {\"bar\": [{\"error_x\": {\"color\": \"#2a3f5f\"}, \"error_y\": {\"color\": \"#2a3f5f\"}, \"marker\": {\"line\": {\"color\": \"#E5ECF6\", \"width\": 0.5}}, \"type\": \"bar\"}], \"barpolar\": [{\"marker\": {\"line\": {\"color\": \"#E5ECF6\", \"width\": 0.5}}, \"type\": \"barpolar\"}], \"carpet\": [{\"aaxis\": {\"endlinecolor\": \"#2a3f5f\", \"gridcolor\": \"white\", \"linecolor\": \"white\", \"minorgridcolor\": \"white\", \"startlinecolor\": \"#2a3f5f\"}, \"baxis\": {\"endlinecolor\": \"#2a3f5f\", \"gridcolor\": \"white\", \"linecolor\": \"white\", \"minorgridcolor\": \"white\", \"startlinecolor\": \"#2a3f5f\"}, \"type\": \"carpet\"}], \"choropleth\": [{\"colorbar\": {\"outlinewidth\": 0, \"ticks\": \"\"}, \"type\": \"choropleth\"}], \"contour\": [{\"colorbar\": {\"outlinewidth\": 0, \"ticks\": \"\"}, \"colorscale\": [[0.0, \"#0d0887\"], [0.1111111111111111, \"#46039f\"], [0.2222222222222222, \"#7201a8\"], [0.3333333333333333, \"#9c179e\"], [0.4444444444444444, \"#bd3786\"], [0.5555555555555556, \"#d8576b\"], [0.6666666666666666, \"#ed7953\"], [0.7777777777777778, \"#fb9f3a\"], [0.8888888888888888, \"#fdca26\"], [1.0, \"#f0f921\"]], \"type\": \"contour\"}], \"contourcarpet\": [{\"colorbar\": {\"outlinewidth\": 0, \"ticks\": \"\"}, \"type\": \"contourcarpet\"}], \"heatmap\": [{\"colorbar\": {\"outlinewidth\": 0, \"ticks\": \"\"}, \"colorscale\": [[0.0, \"#0d0887\"], [0.1111111111111111, \"#46039f\"], [0.2222222222222222, \"#7201a8\"], [0.3333333333333333, \"#9c179e\"], [0.4444444444444444, \"#bd3786\"], [0.5555555555555556, \"#d8576b\"], [0.6666666666666666, \"#ed7953\"], [0.7777777777777778, \"#fb9f3a\"], [0.8888888888888888, \"#fdca26\"], [1.0, \"#f0f921\"]], \"type\": \"heatmap\"}], \"heatmapgl\": [{\"colorbar\": {\"outlinewidth\": 0, \"ticks\": \"\"}, \"colorscale\": [[0.0, \"#0d0887\"], [0.1111111111111111, \"#46039f\"], [0.2222222222222222, \"#7201a8\"], [0.3333333333333333, \"#9c179e\"], [0.4444444444444444, \"#bd3786\"], [0.5555555555555556, \"#d8576b\"], [0.6666666666666666, \"#ed7953\"], [0.7777777777777778, \"#fb9f3a\"], [0.8888888888888888, \"#fdca26\"], [1.0, \"#f0f921\"]], \"type\": \"heatmapgl\"}], \"histogram\": [{\"marker\": {\"colorbar\": {\"outlinewidth\": 0, \"ticks\": \"\"}}, \"type\": \"histogram\"}], \"histogram2d\": [{\"colorbar\": {\"outlinewidth\": 0, \"ticks\": \"\"}, \"colorscale\": [[0.0, \"#0d0887\"], [0.1111111111111111, \"#46039f\"], [0.2222222222222222, \"#7201a8\"], [0.3333333333333333, \"#9c179e\"], [0.4444444444444444, \"#bd3786\"], [0.5555555555555556, \"#d8576b\"], [0.6666666666666666, \"#ed7953\"], [0.7777777777777778, \"#fb9f3a\"], [0.8888888888888888, \"#fdca26\"], [1.0, \"#f0f921\"]], \"type\": \"histogram2d\"}], \"histogram2dcontour\": [{\"colorbar\": {\"outlinewidth\": 0, \"ticks\": \"\"}, \"colorscale\": [[0.0, \"#0d0887\"], [0.1111111111111111, \"#46039f\"], [0.2222222222222222, \"#7201a8\"], [0.3333333333333333, \"#9c179e\"], [0.4444444444444444, \"#bd3786\"], [0.5555555555555556, \"#d8576b\"], [0.6666666666666666, \"#ed7953\"], [0.7777777777777778, \"#fb9f3a\"], [0.8888888888888888, \"#fdca26\"], [1.0, \"#f0f921\"]], \"type\": \"histogram2dcontour\"}], \"mesh3d\": [{\"colorbar\": {\"outlinewidth\": 0, \"ticks\": \"\"}, \"type\": \"mesh3d\"}], \"parcoords\": [{\"line\": {\"colorbar\": {\"outlinewidth\": 0, \"ticks\": \"\"}}, \"type\": \"parcoords\"}], \"scatter\": [{\"marker\": {\"colorbar\": {\"outlinewidth\": 0, \"ticks\": \"\"}}, \"type\": \"scatter\"}], \"scatter3d\": [{\"line\": {\"colorbar\": {\"outlinewidth\": 0, \"ticks\": \"\"}}, \"marker\": {\"colorbar\": {\"outlinewidth\": 0, \"ticks\": \"\"}}, \"type\": \"scatter3d\"}], \"scattercarpet\": [{\"marker\": {\"colorbar\": {\"outlinewidth\": 0, \"ticks\": \"\"}}, \"type\": \"scattercarpet\"}], \"scattergeo\": [{\"marker\": {\"colorbar\": {\"outlinewidth\": 0, \"ticks\": \"\"}}, \"type\": \"scattergeo\"}], \"scattergl\": [{\"marker\": {\"colorbar\": {\"outlinewidth\": 0, \"ticks\": \"\"}}, \"type\": \"scattergl\"}], \"scattermapbox\": [{\"marker\": {\"colorbar\": {\"outlinewidth\": 0, \"ticks\": \"\"}}, \"type\": \"scattermapbox\"}], \"scatterpolar\": [{\"marker\": {\"colorbar\": {\"outlinewidth\": 0, \"ticks\": \"\"}}, \"type\": \"scatterpolar\"}], \"scatterpolargl\": [{\"marker\": {\"colorbar\": {\"outlinewidth\": 0, \"ticks\": \"\"}}, \"type\": \"scatterpolargl\"}], \"scatterternary\": [{\"marker\": {\"colorbar\": {\"outlinewidth\": 0, \"ticks\": \"\"}}, \"type\": \"scatterternary\"}], \"surface\": [{\"colorbar\": {\"outlinewidth\": 0, \"ticks\": \"\"}, \"colorscale\": [[0.0, \"#0d0887\"], [0.1111111111111111, \"#46039f\"], [0.2222222222222222, \"#7201a8\"], [0.3333333333333333, \"#9c179e\"], [0.4444444444444444, \"#bd3786\"], [0.5555555555555556, \"#d8576b\"], [0.6666666666666666, \"#ed7953\"], [0.7777777777777778, \"#fb9f3a\"], [0.8888888888888888, \"#fdca26\"], [1.0, \"#f0f921\"]], \"type\": \"surface\"}], \"table\": [{\"cells\": {\"fill\": {\"color\": \"#EBF0F8\"}, \"line\": {\"color\": \"white\"}}, \"header\": {\"fill\": {\"color\": \"#C8D4E3\"}, \"line\": {\"color\": \"white\"}}, \"type\": \"table\"}]}, \"layout\": {\"annotationdefaults\": {\"arrowcolor\": \"#2a3f5f\", \"arrowhead\": 0, \"arrowwidth\": 1}, \"colorscale\": {\"diverging\": [[0, \"#8e0152\"], [0.1, \"#c51b7d\"], [0.2, \"#de77ae\"], [0.3, \"#f1b6da\"], [0.4, \"#fde0ef\"], [0.5, \"#f7f7f7\"], [0.6, \"#e6f5d0\"], [0.7, \"#b8e186\"], [0.8, \"#7fbc41\"], [0.9, \"#4d9221\"], [1, \"#276419\"]], \"sequential\": [[0.0, \"#0d0887\"], [0.1111111111111111, \"#46039f\"], [0.2222222222222222, \"#7201a8\"], [0.3333333333333333, \"#9c179e\"], [0.4444444444444444, \"#bd3786\"], [0.5555555555555556, \"#d8576b\"], [0.6666666666666666, \"#ed7953\"], [0.7777777777777778, \"#fb9f3a\"], [0.8888888888888888, \"#fdca26\"], [1.0, \"#f0f921\"]], \"sequentialminus\": [[0.0, \"#0d0887\"], [0.1111111111111111, \"#46039f\"], [0.2222222222222222, \"#7201a8\"], [0.3333333333333333, \"#9c179e\"], [0.4444444444444444, \"#bd3786\"], [0.5555555555555556, \"#d8576b\"], [0.6666666666666666, \"#ed7953\"], [0.7777777777777778, \"#fb9f3a\"], [0.8888888888888888, \"#fdca26\"], [1.0, \"#f0f921\"]]}, \"colorway\": [\"#636efa\", \"#EF553B\", \"#00cc96\", \"#ab63fa\", \"#FFA15A\", \"#19d3f3\", \"#FF6692\", \"#B6E880\", \"#FF97FF\", \"#FECB52\"], \"font\": {\"color\": \"#2a3f5f\"}, \"geo\": {\"bgcolor\": \"white\", \"lakecolor\": \"white\", \"landcolor\": \"#E5ECF6\", \"showlakes\": true, \"showland\": true, \"subunitcolor\": \"white\"}, \"hoverlabel\": {\"align\": \"left\"}, \"hovermode\": \"closest\", \"mapbox\": {\"style\": \"light\"}, \"paper_bgcolor\": \"white\", \"plot_bgcolor\": \"#E5ECF6\", \"polar\": {\"angularaxis\": {\"gridcolor\": \"white\", \"linecolor\": \"white\", \"ticks\": \"\"}, \"bgcolor\": \"#E5ECF6\", \"radialaxis\": {\"gridcolor\": \"white\", \"linecolor\": \"white\", \"ticks\": \"\"}}, \"scene\": {\"xaxis\": {\"backgroundcolor\": \"#E5ECF6\", \"gridcolor\": \"white\", \"gridwidth\": 2, \"linecolor\": \"white\", \"showbackground\": true, \"ticks\": \"\", \"zerolinecolor\": \"white\"}, \"yaxis\": {\"backgroundcolor\": \"#E5ECF6\", \"gridcolor\": \"white\", \"gridwidth\": 2, \"linecolor\": \"white\", \"showbackground\": true, \"ticks\": \"\", \"zerolinecolor\": \"white\"}, \"zaxis\": {\"backgroundcolor\": \"#E5ECF6\", \"gridcolor\": \"white\", \"gridwidth\": 2, \"linecolor\": \"white\", \"showbackground\": true, \"ticks\": \"\", \"zerolinecolor\": \"white\"}}, \"shapedefaults\": {\"line\": {\"color\": \"#2a3f5f\"}}, \"ternary\": {\"aaxis\": {\"gridcolor\": \"white\", \"linecolor\": \"white\", \"ticks\": \"\"}, \"baxis\": {\"gridcolor\": \"white\", \"linecolor\": \"white\", \"ticks\": \"\"}, \"bgcolor\": \"#E5ECF6\", \"caxis\": {\"gridcolor\": \"white\", \"linecolor\": \"white\", \"ticks\": \"\"}}, \"title\": {\"x\": 0.05}, \"xaxis\": {\"automargin\": true, \"gridcolor\": \"white\", \"linecolor\": \"white\", \"ticks\": \"\", \"zerolinecolor\": \"white\", \"zerolinewidth\": 2}, \"yaxis\": {\"automargin\": true, \"gridcolor\": \"white\", \"linecolor\": \"white\", \"ticks\": \"\", \"zerolinecolor\": \"white\", \"zerolinewidth\": 2}}}, \"yaxis\": {\"title\": {\"text\": \"\\u0426\\u0435\\u043d\\u0430 \\u043d\\u0430 \\u0430\\u0432\\u043e\\u043a\\u0430\\u0434\\u043e \\u0432 \\u0434\\u043e\\u043b\\u043b\\u0430\\u0440\\u0430\\u0445 \\u0421\\u0428\\u0410\"}}},\n",
       "                        {\"responsive\": true}\n",
       "                    ).then(function(){\n",
       "                            \n",
       "var gd = document.getElementById('9298ecf5-7d20-406e-8cfc-59cbc3e8257c');\n",
       "var x = new MutationObserver(function (mutations, observer) {{\n",
       "        var display = window.getComputedStyle(gd).display;\n",
       "        if (!display || display === 'none') {{\n",
       "            console.log([gd, 'removed!']);\n",
       "            Plotly.purge(gd);\n",
       "            observer.disconnect();\n",
       "        }}\n",
       "}});\n",
       "\n",
       "// Listen for the removal of the full notebook cells\n",
       "var notebookContainer = gd.closest('#notebook-container');\n",
       "if (notebookContainer) {{\n",
       "    x.observe(notebookContainer, {childList: true});\n",
       "}}\n",
       "\n",
       "// Listen for the clearing of the current output cell\n",
       "var outputEl = gd.closest('.output');\n",
       "if (outputEl) {{\n",
       "    x.observe(outputEl, {childList: true});\n",
       "}}\n",
       "\n",
       "                        })\n",
       "                };\n",
       "                });\n",
       "            </script>\n",
       "        </div>"
      ]
     },
     "metadata": {},
     "output_type": "display_data"
    }
   ],
   "source": [
    "def show_forecast(cmp_df, num_predictions, num_values, axtitle):\n",
    "    # верхняя граница доверительного интервала прогноза\n",
    "    upper_bound = go.Scatter(\n",
    "        name='Upper Bound',\n",
    "        x=cmp_df.tail(num_predictions).index,\n",
    "        y=cmp_df.tail(num_predictions).yhat_upper,\n",
    "        mode='lines',\n",
    "        marker=dict(color=\"olive\"),\n",
    "        line=dict(width=0),\n",
    "        fillcolor='rgba(68, 68, 68, 0.3)',\n",
    "        fill='tonexty')\n",
    "\n",
    "    # прогноз\n",
    "    forecast = go.Scatter(\n",
    "        name='Prediction',\n",
    "        x=cmp_df.tail(num_predictions).index,\n",
    "        y=cmp_df.tail(num_predictions).yhat,\n",
    "        mode='lines',\n",
    "        line=dict(color='rgb(31, 119, 180)'),\n",
    "    )\n",
    "\n",
    "    # нижняя граница доверительного интервала\n",
    "    lower_bound = go.Scatter(\n",
    "        name='Lower Bound',\n",
    "        x=cmp_df.tail(num_predictions).index,\n",
    "        y=cmp_df.tail(num_predictions).yhat_lower,\n",
    "        marker=dict(color=\"olive\"),\n",
    "        line=dict(width=0),\n",
    "        mode='lines')\n",
    "\n",
    "    # фактические значения\n",
    "    fact = go.Scatter(\n",
    "        name='Fact',\n",
    "        x=cmp_df.tail(num_values).index,\n",
    "        y=cmp_df.tail(num_values).y,\n",
    "        marker=dict(color=\"red\"),\n",
    "        mode='lines',\n",
    "    )\n",
    "\n",
    "    data = [lower_bound, upper_bound, forecast, fact]\n",
    "\n",
    "    layout = go.Layout(\n",
    "        yaxis=dict(title=axtitle),\n",
    "        showlegend = False)\n",
    "\n",
    "    fig = go.Figure(data=data, layout=layout)\n",
    "    iplot(fig, show_link=False)\n",
    "\n",
    "df_vis = df[['Средняя цена авокадо в США (в долларах)', 'Дата']].copy()\n",
    "df_vis['y'] = df_vis['Средняя цена авокадо в США (в долларах)']\n",
    "df_vis['ds'] = df_vis['Дата']        \n",
    "cmp_df = fcst.set_index('ds')[['yhat', 'yhat_lower', 'yhat_upper']].join(df_vis.set_index('ds'))    \n",
    "    \n",
    "import numpy as np\n",
    "cmp_df['e'] = cmp_df['y'] - cmp_df['yhat']\n",
    "cmp_df['p'] = 100*cmp_df['e']/cmp_df['y']    \n",
    "\n",
    "show_forecast(cmp_df, 50, 50, 'Цена на авокадо в долларах США')"
   ]
  },
  {
   "cell_type": "code",
   "execution_count": 64,
   "metadata": {},
   "outputs": [
    {
     "name": "stdout",
     "output_type": "stream",
     "text": [
      "Results of Dickey-Fuller Test:\n",
      "Test Statistic                 -2.986463\n",
      "p-value                         0.036178\n",
      "#Lags Used                      1.000000\n",
      "Number of Observations Used    37.000000\n",
      "Critical Value (1%)            -3.620918\n",
      "Critical Value (5%)            -2.943539\n",
      "Critical Value (10%)           -2.610400\n",
      "dtype: float64\n"
     ]
    }
   ],
   "source": [
    "def adf_test(timeseries, lag):\n",
    "    print ('Results of Dickey-Fuller Test:')\n",
    "    dftest = adfuller(timeseries, maxlag=lag)\n",
    "    dfoutput = pd.Series(dftest[0:4], index=['Test Statistic','p-value','#Lags Used','Number of Observations Used'])\n",
    "    for key,value in dftest[4].items():\n",
    "       dfoutput['Critical Value (%s)'%key] = value\n",
    "    print (dfoutput)\n",
    "    \n",
    "\n",
    "train_df = df['Средняя цена авокадо в США (в долларах)'].copy()\n",
    "adf_test(train_df, 12)"
   ]
  },
  {
   "cell_type": "code",
   "execution_count": 65,
   "metadata": {},
   "outputs": [
    {
     "name": "stdout",
     "output_type": "stream",
     "text": [
      "Results of Dickey-Fuller Test:\n",
      "Test Statistic                 -4.381881\n",
      "p-value                         0.000320\n",
      "#Lags Used                      1.000000\n",
      "Number of Observations Used    36.000000\n",
      "Critical Value (1%)            -3.626652\n",
      "Critical Value (5%)            -2.945951\n",
      "Critical Value (10%)           -2.611671\n",
      "dtype: float64\n"
     ]
    },
    {
     "data": {
      "text/plain": [
       "<matplotlib.axes._subplots.AxesSubplot at 0x2eea2f13c08>"
      ]
     },
     "execution_count": 65,
     "metadata": {},
     "output_type": "execute_result"
    },
    {
     "data": {
      "image/png": "[encoded data removed]",
      "text/plain": [
       "<Figure size 432x288 with 1 Axes>"
      ]
     },
     "metadata": {
      "needs_background": "light"
     },
     "output_type": "display_data"
    }
   ],
   "source": [
    "train_df1diff = train_df.diff(1)\n",
    "train_df1diff = train_df1diff.dropna()\n",
    "adf_test(train_df1diff, 12)\n",
    "train_df1diff.plot()"
   ]
  },
  {
   "cell_type": "code",
   "execution_count": 66,
   "metadata": {},
   "outputs": [
    {
     "name": "stdout",
     "output_type": "stream",
     "text": [
      "Results of Dickey-Fuller Test:\n",
      "Test Statistic                 -5.122591\n",
      "p-value                         0.000013\n",
      "#Lags Used                      1.000000\n",
      "Number of Observations Used    24.000000\n",
      "Critical Value (1%)            -3.737709\n",
      "Critical Value (5%)            -2.992216\n",
      "Critical Value (10%)           -2.635747\n",
      "dtype: float64\n"
     ]
    },
    {
     "data": {
      "text/plain": [
       "<matplotlib.axes._subplots.AxesSubplot at 0x2eea2994608>"
      ]
     },
     "execution_count": 66,
     "metadata": {},
     "output_type": "execute_result"
    },
    {
     "data": {
      "image/png": "[encoded data removed]",
      "text/plain": [
       "<Figure size 432x288 with 1 Axes>"
      ]
     },
     "metadata": {
      "needs_background": "light"
     },
     "output_type": "display_data"
    }
   ],
   "source": [
    "train_df1diff = train_df1diff.diff(12)\n",
    "train_df1diff = train_df1diff.dropna()\n",
    "adf_test(train_df1diff, 1)\n",
    "train_df1diff.plot()"
   ]
  },
  {
   "cell_type": "code",
   "execution_count": 67,
   "metadata": {},
   "outputs": [
    {
     "data": {
      "image/png": "[encoded data removed]",
      "text/plain": [
       "<Figure size 432x288 with 1 Axes>"
      ]
     },
     "metadata": {
      "needs_background": "light"
     },
     "output_type": "display_data"
    },
    {
     "data": {
      "image/png": "[encoded data removed]",
      "text/plain": [
       "<Figure size 432x288 with 1 Axes>"
      ]
     },
     "metadata": {
      "needs_background": "light"
     },
     "output_type": "display_data"
    }
   ],
   "source": [
    "fig1 = sm.graphics.tsa.plot_acf(train_df1diff.values.squeeze(), lags=13)\n",
    "fig2 = sm.graphics.tsa.plot_pacf(train_df1diff, lags=13)"
   ]
  },
  {
   "cell_type": "code",
   "execution_count": 68,
   "metadata": {
    "scrolled": true
   },
   "outputs": [
    {
     "name": "stderr",
     "output_type": "stream",
     "text": [
      "D:\\ImportantThings\\lib\\site-packages\\statsmodels\\base\\model.py:512: ConvergenceWarning:\n",
      "\n",
      "Maximum Likelihood optimization failed to converge. Check mle_retvals\n",
      "\n"
     ]
    },
    {
     "data": {
      "text/html": [
       "<table class=\"simpletable\">\n",
       "<caption>Statespace Model Results</caption>\n",
       "<tr>\n",
       "  <th>Dep. Variable:</th>   <td>Средняя цена авокадо в США (в долларах)</td> <th>  No. Observations:  </th>   <td>39</td>   \n",
       "</tr>\n",
       "<tr>\n",
       "  <th>Model:</th>               <td>SARIMAX(2, 1, 2)x(1, 0, 1, 12)</td>      <th>  Log Likelihood     </th> <td>44.401</td> \n",
       "</tr>\n",
       "<tr>\n",
       "  <th>Date:</th>                       <td>Wed, 22 Apr 2020</td>             <th>  AIC                </th> <td>-74.802</td>\n",
       "</tr>\n",
       "<tr>\n",
       "  <th>Time:</th>                           <td>00:17:01</td>                 <th>  BIC                </th> <td>-63.339</td>\n",
       "</tr>\n",
       "<tr>\n",
       "  <th>Sample:</th>                             <td>0</td>                    <th>  HQIC               </th> <td>-70.724</td>\n",
       "</tr>\n",
       "<tr>\n",
       "  <th></th>                                  <td> - 39</td>                  <th>                     </th>    <td> </td>   \n",
       "</tr>\n",
       "<tr>\n",
       "  <th>Covariance Type:</th>                   <td>opg</td>                   <th>                     </th>    <td> </td>   \n",
       "</tr>\n",
       "</table>\n",
       "<table class=\"simpletable\">\n",
       "<tr>\n",
       "      <td></td>        <th>coef</th>     <th>std err</th>      <th>z</th>      <th>P>|z|</th>  <th>[0.025</th>    <th>0.975]</th>  \n",
       "</tr>\n",
       "<tr>\n",
       "  <th>ar.L1</th>    <td>    0.8875</td> <td>    0.462</td> <td>    1.923</td> <td> 0.054</td> <td>   -0.017</td> <td>    1.792</td>\n",
       "</tr>\n",
       "<tr>\n",
       "  <th>ar.L2</th>    <td>   -0.1635</td> <td>    0.435</td> <td>   -0.375</td> <td> 0.707</td> <td>   -1.017</td> <td>    0.690</td>\n",
       "</tr>\n",
       "<tr>\n",
       "  <th>ma.L1</th>    <td>   -0.6697</td> <td>    1.178</td> <td>   -0.569</td> <td> 0.570</td> <td>   -2.978</td> <td>    1.639</td>\n",
       "</tr>\n",
       "<tr>\n",
       "  <th>ma.L2</th>    <td>   -0.3244</td> <td>    0.565</td> <td>   -0.574</td> <td> 0.566</td> <td>   -1.433</td> <td>    0.784</td>\n",
       "</tr>\n",
       "<tr>\n",
       "  <th>ar.S.L12</th> <td>    0.9358</td> <td>    3.334</td> <td>    0.281</td> <td> 0.779</td> <td>   -5.599</td> <td>    7.471</td>\n",
       "</tr>\n",
       "<tr>\n",
       "  <th>ma.S.L12</th> <td>   -0.8230</td> <td>    5.114</td> <td>   -0.161</td> <td> 0.872</td> <td>  -10.846</td> <td>    9.200</td>\n",
       "</tr>\n",
       "<tr>\n",
       "  <th>sigma2</th>   <td>    0.0051</td> <td>    0.007</td> <td>    0.697</td> <td> 0.486</td> <td>   -0.009</td> <td>    0.019</td>\n",
       "</tr>\n",
       "</table>\n",
       "<table class=\"simpletable\">\n",
       "<tr>\n",
       "  <th>Ljung-Box (Q):</th>           <td>nan</td> <th>  Jarque-Bera (JB):  </th> <td>1.11</td>\n",
       "</tr>\n",
       "<tr>\n",
       "  <th>Prob(Q):</th>                 <td>nan</td> <th>  Prob(JB):          </th> <td>0.57</td>\n",
       "</tr>\n",
       "<tr>\n",
       "  <th>Heteroskedasticity (H):</th> <td>6.08</td> <th>  Skew:              </th> <td>0.33</td>\n",
       "</tr>\n",
       "<tr>\n",
       "  <th>Prob(H) (two-sided):</th>    <td>0.00</td> <th>  Kurtosis:          </th> <td>3.51</td>\n",
       "</tr>\n",
       "</table><br/><br/>Warnings:<br/>[1] Covariance matrix calculated using the outer product of gradients (complex-step)."
      ],
      "text/plain": [
       "<class 'statsmodels.iolib.summary.Summary'>\n",
       "\"\"\"\n",
       "                                      Statespace Model Results                                     \n",
       "===================================================================================================\n",
       "Dep. Variable:     Средняя цена авокадо в США (в долларах)   No. Observations:                   39\n",
       "Model:                      SARIMAX(2, 1, 2)x(1, 0, 1, 12)   Log Likelihood                  44.401\n",
       "Date:                                     Wed, 22 Apr 2020   AIC                            -74.802\n",
       "Time:                                             00:17:01   BIC                            -63.339\n",
       "Sample:                                                  0   HQIC                           -70.724\n",
       "                                                      - 39                                         \n",
       "Covariance Type:                                       opg                                         \n",
       "==============================================================================\n",
       "                 coef    std err          z      P>|z|      [0.025      0.975]\n",
       "------------------------------------------------------------------------------\n",
       "ar.L1          0.8875      0.462      1.923      0.054      -0.017       1.792\n",
       "ar.L2         -0.1635      0.435     -0.375      0.707      -1.017       0.690\n",
       "ma.L1         -0.6697      1.178     -0.569      0.570      -2.978       1.639\n",
       "ma.L2         -0.3244      0.565     -0.574      0.566      -1.433       0.784\n",
       "ar.S.L12       0.9358      3.334      0.281      0.779      -5.599       7.471\n",
       "ma.S.L12      -0.8230      5.114     -0.161      0.872     -10.846       9.200\n",
       "sigma2         0.0051      0.007      0.697      0.486      -0.009       0.019\n",
       "===================================================================================\n",
       "Ljung-Box (Q):                         nan   Jarque-Bera (JB):                 1.11\n",
       "Prob(Q):                               nan   Prob(JB):                         0.57\n",
       "Heteroskedasticity (H):               6.08   Skew:                             0.33\n",
       "Prob(H) (two-sided):                  0.00   Kurtosis:                         3.51\n",
       "===================================================================================\n",
       "\n",
       "Warnings:\n",
       "[1] Covariance matrix calculated using the outer product of gradients (complex-step).\n",
       "\"\"\""
      ]
     },
     "execution_count": 68,
     "metadata": {},
     "output_type": "execute_result"
    }
   ],
   "source": [
    "model = SARIMAX(train_df, order=(2,1,2), seasonal_order=(1,0,1,12)).fit()\n",
    "model.summary()"
   ]
  },
  {
   "cell_type": "code",
   "execution_count": 69,
   "metadata": {},
   "outputs": [
    {
     "data": {
      "text/plain": [
       "<matplotlib.axes._subplots.AxesSubplot at 0x2eea0125908>"
      ]
     },
     "execution_count": 69,
     "metadata": {},
     "output_type": "execute_result"
    },
    {
     "data": {
      "image/png": "[encoded data removed]",
      "text/plain": [
       "<Figure size 864x432 with 1 Axes>"
      ]
     },
     "metadata": {
      "needs_background": "light"
     },
     "output_type": "display_data"
    }
   ],
   "source": [
    "pred = model.predict(1, 45)\n",
    "df['Средняя цена авокадо в США (в долларах)'].plot(figsize=(12,6))\n",
    "pred.plot(style='r--')"
   ]
  },
  {
   "cell_type": "code",
   "execution_count": null,
   "metadata": {},
   "outputs": [],
   "source": []
  }
 ],
 "metadata": {
  "kernelspec": {
   "display_name": "Python 3",
   "language": "python",
   "name": "python3"
  },
  "language_info": {
   "codemirror_mode": {
    "name": "ipython",
    "version": 3
   },
   "file_extension": ".py",
   "mimetype": "text/x-python",
   "name": "python",
   "nbconvert_exporter": "python",
   "pygments_lexer": "ipython3",
   "version": "3.7.4"
  },
  "widgets": {
   "application/vnd.jupyter.widget-state+json": {
    "state": {},
    "version_major": 2,
    "version_minor": 0
   }
  }
 },
 "nbformat": 4,
 "nbformat_minor": 4
}
